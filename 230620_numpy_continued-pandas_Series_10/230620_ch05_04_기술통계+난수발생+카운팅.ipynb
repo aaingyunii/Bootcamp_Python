{
  "nbformat": 4,
  "nbformat_minor": 0,
  "metadata": {
    "colab": {
      "provenance": [],
      "toc_visible": true,
      "include_colab_link": true
    },
    "kernelspec": {
      "name": "python3",
      "display_name": "Python 3"
    },
    "language_info": {
      "name": "python"
    }
  },
  "cells": [
    {
      "cell_type": "markdown",
      "metadata": {
        "id": "view-in-github",
        "colab_type": "text"
      },
      "source": [
        "<a href=\"https://colab.research.google.com/github/aaingyunii/230620_numpy_continued/blob/main/230620_ch05_04_%EA%B8%B0%EC%88%A0%ED%86%B5%EA%B3%84%2B%EB%82%9C%EC%88%98%EB%B0%9C%EC%83%9D%2B%EC%B9%B4%EC%9A%B4%ED%8C%85.ipynb\" target=\"_parent\"><img src=\"https://colab.research.google.com/assets/colab-badge.svg\" alt=\"Open In Colab\"/></a>"
      ]
    },
    {
      "cell_type": "markdown",
      "source": [
        "# 기술 통계"
      ],
      "metadata": {
        "id": "tqxkhX-JFimj"
      }
    },
    {
      "cell_type": "markdown",
      "source": [
        "## 기술 통계(descriptive statistics)\n",
        "> 데이터 집합에 대해 통계를 계산\n",
        "* 데이터의 개수(count)\n",
        "* 평균(mean, average)\n",
        "* 분산(variance)\n",
        "* 표준 편차(standard deviation)\n",
        "* 최댓값(maximum)\n",
        "* 최솟값(minimum)\n",
        "* 중앙값(median)\n",
        "* 사분위수(quartile)"
      ],
      "metadata": {
        "id": "gchQwkseFsUX"
      }
    },
    {
      "cell_type": "code",
      "source": [
        "import numpy as np"
      ],
      "metadata": {
        "id": "jttHEMK4F9XX"
      },
      "execution_count": 1,
      "outputs": []
    },
    {
      "cell_type": "code",
      "source": [
        "x = np.array([\n",
        "    18, 5, 10, 23, 19, -8, 10, 0, 0, 5, 2, 15, 8,\n",
        "    2, 5, 4, 15, -1, 4, -7, -24, 7, 9, -6, 23, -13\n",
        "])\n",
        "x   #1차원 배열"
      ],
      "metadata": {
        "colab": {
          "base_uri": "https://localhost:8080/"
        },
        "id": "qhCXVwsANC1t",
        "outputId": "775ff4d3-0ff2-479a-9ff8-00ffd68a8196"
      },
      "execution_count": 3,
      "outputs": [
        {
          "output_type": "execute_result",
          "data": {
            "text/plain": [
              "array([ 18,   5,  10,  23,  19,  -8,  10,   0,   0,   5,   2,  15,   8,\n",
              "         2,   5,   4,  15,  -1,   4,  -7, -24,   7,   9,  -6,  23, -13])"
            ]
          },
          "metadata": {},
          "execution_count": 3
        }
      ]
    },
    {
      "cell_type": "markdown",
      "source": [
        "## 데이터의 개수"
      ],
      "metadata": {
        "id": "5bzioyHoF557"
      }
    },
    {
      "cell_type": "code",
      "source": [
        "len(x)"
      ],
      "metadata": {
        "colab": {
          "base_uri": "https://localhost:8080/"
        },
        "id": "wlTrzCbKFl4j",
        "outputId": "1424ae6c-5063-48a5-cac6-6f68cf370e08"
      },
      "execution_count": 4,
      "outputs": [
        {
          "output_type": "execute_result",
          "data": {
            "text/plain": [
              "26"
            ]
          },
          "metadata": {},
          "execution_count": 4
        }
      ]
    },
    {
      "cell_type": "markdown",
      "source": [
        "## 표본 평균\n",
        "* 우리가 일반적으로 아는 평균\n",
        "* 통계용어로는 표본 평균(sample average, sample mean)\n",
        "<br>\n",
        "$\n",
        "\\bar{x} = \\frac{1}{N}\\displaystyle\\sum_{i=1}^{N}{x_i}\n",
        "$\n",
        "(𝑁은 데이터의 개수)"
      ],
      "metadata": {
        "id": "3xe5u1nkGBgM"
      }
    },
    {
      "cell_type": "code",
      "source": [
        "np.mean(x), x.mean(), x.sum() / len(x)"
      ],
      "metadata": {
        "colab": {
          "base_uri": "https://localhost:8080/"
        },
        "id": "SiQn6qJlF_Y_",
        "outputId": "75c14472-99bd-4a6e-a503-f1b8a658f3c4"
      },
      "execution_count": 5,
      "outputs": [
        {
          "output_type": "execute_result",
          "data": {
            "text/plain": [
              "(4.8076923076923075, 4.8076923076923075, 4.8076923076923075)"
            ]
          },
          "metadata": {},
          "execution_count": 5
        }
      ]
    },
    {
      "cell_type": "markdown",
      "source": [
        "## 표본 분산\n",
        "* 표본 분산(sample variance) : 데이터와 표본 평균간의 거리의 제곱의 평균\n",
        "* 표본 분산이 작으면 데이터가 모여있는 것이고 크면 흩어져 있는 것\n",
        "<br>\n",
        "$\n",
        "s^2 = \\frac{1}{N}\\displaystyle\\sum_{i=1}^{N}{(x_i-\\bar{x})^2}\n",
        "$"
      ],
      "metadata": {
        "id": "sMmBl-uLHWwF"
      }
    },
    {
      "cell_type": "code",
      "source": [
        "np.var(x), x.var()"
      ],
      "metadata": {
        "colab": {
          "base_uri": "https://localhost:8080/"
        },
        "id": "ukbJg498HWZG",
        "outputId": "dba8a1ce-7017-4e03-e712-db8ba3f33b86"
      },
      "execution_count": 6,
      "outputs": [
        {
          "output_type": "execute_result",
          "data": {
            "text/plain": [
              "(115.23224852071006, 115.23224852071006)"
            ]
          },
          "metadata": {},
          "execution_count": 6
        }
      ]
    },
    {
      "cell_type": "markdown",
      "source": [
        "## 표본 표준편차\n",
        "* 표본 표준편차(sample standard variance) : 표본 분산의 양의 제곱근 값\n",
        "<br>\n",
        "$\n",
        "s = \\sqrt{s^2}\n",
        "$"
      ],
      "metadata": {
        "id": "ox3H6KB8H4Hd"
      }
    },
    {
      "cell_type": "code",
      "source": [
        "np.std(x), x.std()"
      ],
      "metadata": {
        "colab": {
          "base_uri": "https://localhost:8080/"
        },
        "id": "ESjtI9K9HP8g",
        "outputId": "0b349e60-b5d4-4c74-a3c7-0c7b1e13183f"
      },
      "execution_count": 7,
      "outputs": [
        {
          "output_type": "execute_result",
          "data": {
            "text/plain": [
              "(10.734628476137871, 10.734628476137871)"
            ]
          },
          "metadata": {},
          "execution_count": 7
        }
      ]
    },
    {
      "cell_type": "markdown",
      "source": [
        "## 최댓값과 최솟값"
      ],
      "metadata": {
        "id": "68MH4LSRINEC"
      }
    },
    {
      "cell_type": "code",
      "source": [
        "# 최댓값 (maximum) / 최솟값 (minimum)\n",
        "x.max(), x.min(), np.max(x), np.min(x)"
      ],
      "metadata": {
        "colab": {
          "base_uri": "https://localhost:8080/"
        },
        "id": "E-KkdiALIPvE",
        "outputId": "db3e657c-21a8-4f72-ffc4-03a3bf7f183e"
      },
      "execution_count": 9,
      "outputs": [
        {
          "output_type": "execute_result",
          "data": {
            "text/plain": [
              "(23, -24, 23, -24)"
            ]
          },
          "metadata": {},
          "execution_count": 9
        }
      ]
    },
    {
      "cell_type": "markdown",
      "source": [
        "## 중앙값\n",
        "* 중앙값(median) : 데이터를 크기대로 정렬하였을 때 가장 가운데에 있는 수\n",
        "* 만약 데이터의 수가 짝수이면 가장 가운데에 있는 두 수의 평균을 사용\n"
      ],
      "metadata": {
        "id": "vGgHFClPIWQV"
      }
    },
    {
      "cell_type": "code",
      "source": [
        "np.median(x)  # 내장 메서드 없음, x.median()불가능"
      ],
      "metadata": {
        "colab": {
          "base_uri": "https://localhost:8080/"
        },
        "id": "LS2P0zPnIUvN",
        "outputId": "f7439428-d210-4e86-8546-5096118f3749"
      },
      "execution_count": 13,
      "outputs": [
        {
          "output_type": "execute_result",
          "data": {
            "text/plain": [
              "5.0"
            ]
          },
          "metadata": {},
          "execution_count": 13
        }
      ]
    },
    {
      "cell_type": "markdown",
      "source": [
        "## 사분위수\n",
        "* 사분위수(quartile) : 데이터를 가장 작은 수부터 가장 큰 수까지 크기가 커지는 순서대로 정렬하였을 때 1/4, 2/4, 3/4 위치에 있는 수\n",
        "* 각각 1사분위수, 2사분위수, 3사분위수라고 함\n",
        "* 1/4의 위치란 전체 데이터의 수가 만약 100개이면 25번째 순서, 즉 하위 25%\n",
        "* 따라서 2사분위수는 중앙값과 같음\n",
        "* 때로는 위치를 1/100 단위로 나눈 백분위수(percentile)을 사용하기도 함\n",
        "* 1사분위수는 25% 백분위수와 같음\n"
      ],
      "metadata": {
        "id": "b1pLnirSIfsI"
      }
    },
    {
      "cell_type": "code",
      "source": [
        "np.percentile(x,0)  #최솟값"
      ],
      "metadata": {
        "colab": {
          "base_uri": "https://localhost:8080/"
        },
        "id": "EHTZ62T8Ici8",
        "outputId": "da765245-9b3f-4dda-b4f3-f50250653065"
      },
      "execution_count": 15,
      "outputs": [
        {
          "output_type": "execute_result",
          "data": {
            "text/plain": [
              "-24.0"
            ]
          },
          "metadata": {},
          "execution_count": 15
        }
      ]
    },
    {
      "cell_type": "code",
      "source": [
        "np.percentile(x,25)  # 25% 백분위수, 1사분위수"
      ],
      "metadata": {
        "colab": {
          "base_uri": "https://localhost:8080/"
        },
        "id": "h8tVnPH6Ixcv",
        "outputId": "314edabc-ec14-4751-d3e1-1b4668385b99"
      },
      "execution_count": 16,
      "outputs": [
        {
          "output_type": "execute_result",
          "data": {
            "text/plain": [
              "0.0"
            ]
          },
          "metadata": {},
          "execution_count": 16
        }
      ]
    },
    {
      "cell_type": "code",
      "source": [
        "np.percentile(x,50), np.median(x)   # 중앙값,중간값, 2사분위수, 50% 백분위수"
      ],
      "metadata": {
        "colab": {
          "base_uri": "https://localhost:8080/"
        },
        "id": "PuT1HTElIza1",
        "outputId": "6119aeb9-8ced-46b6-b68f-97480cc0a3cc"
      },
      "execution_count": 17,
      "outputs": [
        {
          "output_type": "execute_result",
          "data": {
            "text/plain": [
              "(5.0, 5.0)"
            ]
          },
          "metadata": {},
          "execution_count": 17
        }
      ]
    },
    {
      "cell_type": "code",
      "source": [
        "np.percentile(x,75)     # 3사분위수, 75% 백분위수"
      ],
      "metadata": {
        "colab": {
          "base_uri": "https://localhost:8080/"
        },
        "id": "v7wB_7N_I0zM",
        "outputId": "bd4a308d-b8f4-4bd5-fe03-9c877055365c"
      },
      "execution_count": 21,
      "outputs": [
        {
          "output_type": "execute_result",
          "data": {
            "text/plain": [
              "10.0"
            ]
          },
          "metadata": {},
          "execution_count": 21
        }
      ]
    },
    {
      "cell_type": "code",
      "source": [
        "np.percentile(x,100), np.max(x)   # 최댓값, 4사분위수, 100% 백분위수"
      ],
      "metadata": {
        "colab": {
          "base_uri": "https://localhost:8080/"
        },
        "id": "JbCd4SqGI20l",
        "outputId": "8895a1ba-93a3-4359-9d27-15ceb0abbc37"
      },
      "execution_count": 22,
      "outputs": [
        {
          "output_type": "execute_result",
          "data": {
            "text/plain": [
              "(23.0, 23)"
            ]
          },
          "metadata": {},
          "execution_count": 22
        }
      ]
    },
    {
      "cell_type": "markdown",
      "source": [
        "# 난수 발생과 카운팅"
      ],
      "metadata": {
        "id": "x1uZuajeI9Si"
      }
    },
    {
      "cell_type": "markdown",
      "source": [
        "## 시드 설정\n",
        "* 컴퓨터 프로그램에서 발생하는 무작위 수는 사실 엄격한 의미의 무작위 수가 아님\n",
        "* 어떤 특정한 시작 숫자를 정해 주면 컴퓨터가 정해진 알고리즘에 의해 마치 난수처럼 보이는 수열을 생성. 이런 시작 숫자를 시드(seed)라고 함\n",
        "* 일단 생성된 난수는 다음번 난수 생성을 위한 시드값이 됨. 따라서 시드값은 한 번만 정해주면 됨.\n",
        "* 시드는 보통 현재 시각 등을 이용하여 자동으로 정해지지만 사람이 수동으로 설정할 수도 있음 * 특정한 시드값이 사용되면 그 다음에 만들어지는 난수들은 모두 예측할 수 있음\n",
        "* 고정된 결과를 얻기 위해서 실습엔 시드를 설정"
      ],
      "metadata": {
        "id": "ZCEj6C5UJHHc"
      }
    },
    {
      "cell_type": "code",
      "source": [
        "np.random.seed(0)  # 시드값 고정"
      ],
      "metadata": {
        "id": "R9wwclqfI8_9"
      },
      "execution_count": 37,
      "outputs": []
    },
    {
      "cell_type": "markdown",
      "source": [
        "### `rand` : 0과 1 사이의 난수를 발생\n"
      ],
      "metadata": {
        "id": "OQRCx_xUJf6l"
      }
    },
    {
      "cell_type": "code",
      "source": [
        "np.random.rand(5) # rand(n) -> n개의 길이를 가지는 배열에 각각 0~1사이의 난수를 채워줌"
      ],
      "metadata": {
        "colab": {
          "base_uri": "https://localhost:8080/"
        },
        "id": "w26duH5TJb7f",
        "outputId": "2b36c2a7-c193-4869-b1e7-b42134dfcbcc"
      },
      "execution_count": 38,
      "outputs": [
        {
          "output_type": "execute_result",
          "data": {
            "text/plain": [
              "array([0.5488135 , 0.71518937, 0.60276338, 0.54488318, 0.4236548 ])"
            ]
          },
          "metadata": {},
          "execution_count": 38
        }
      ]
    },
    {
      "cell_type": "code",
      "source": [
        "np.random.rand(10)"
      ],
      "metadata": {
        "colab": {
          "base_uri": "https://localhost:8080/"
        },
        "id": "bnSQUYKVJkl8",
        "outputId": "d30f149a-ac62-4c1a-8366-1ec2e9a9078e"
      },
      "execution_count": 39,
      "outputs": [
        {
          "output_type": "execute_result",
          "data": {
            "text/plain": [
              "array([0.64589411, 0.43758721, 0.891773  , 0.96366276, 0.38344152,\n",
              "       0.79172504, 0.52889492, 0.56804456, 0.92559664, 0.07103606])"
            ]
          },
          "metadata": {},
          "execution_count": 39
        }
      ]
    },
    {
      "cell_type": "markdown",
      "source": [
        "## 데이터의 순서 변경"
      ],
      "metadata": {
        "id": "TvJHX9FmJtgQ"
      }
    },
    {
      "cell_type": "markdown",
      "source": [
        "### `shuffle`\n",
        "* 데이터의 순서를 변경\n",
        "* 자체 변환(in-place) 함수 (원본에 영향)"
      ],
      "metadata": {
        "id": "89jdzc8rJyqB"
      }
    },
    {
      "cell_type": "code",
      "source": [
        "x = np.arange(10)\n",
        "x"
      ],
      "metadata": {
        "colab": {
          "base_uri": "https://localhost:8080/"
        },
        "id": "vUHakdiQJpjl",
        "outputId": "de03ec04-fc09-48b8-d771-6ae204b79fbc"
      },
      "execution_count": 40,
      "outputs": [
        {
          "output_type": "execute_result",
          "data": {
            "text/plain": [
              "array([0, 1, 2, 3, 4, 5, 6, 7, 8, 9])"
            ]
          },
          "metadata": {},
          "execution_count": 40
        }
      ]
    },
    {
      "cell_type": "code",
      "source": [
        "np.random.shuffle(x)  # x를 섞어줌 -> 사본 만들지 X -> x 배열 자체를 섞는다.\n",
        "x"
      ],
      "metadata": {
        "colab": {
          "base_uri": "https://localhost:8080/"
        },
        "id": "ReqSVnNlJ7S0",
        "outputId": "487bf114-058f-4e79-f26c-4f5a73b5a046"
      },
      "execution_count": 41,
      "outputs": [
        {
          "output_type": "execute_result",
          "data": {
            "text/plain": [
              "array([5, 1, 8, 2, 6, 7, 0, 3, 4, 9])"
            ]
          },
          "metadata": {},
          "execution_count": 41
        }
      ]
    },
    {
      "cell_type": "markdown",
      "source": [
        "## 데이터 샘플링\n",
        "* 표본선택 혹은 샘플링(sampling) : 이미 있는 데이터 집합에서 일부를 무작위로 선택하는 것"
      ],
      "metadata": {
        "id": "MbQrSKXMKJAg"
      }
    },
    {
      "cell_type": "markdown",
      "source": [
        "### `choice` : 샘플링에 사용\n",
        "```\n",
        "numpy.random.choice(a, size=None, replace=True, p=None)\n",
        "```\n",
        "* a : 배열이면 원래의 데이터, 정수이면 arange(a) 명령으로 데이터 생성\n",
        "* size : 정수. 샘플 숫자\n",
        "* replace : 불리언. True이면 한번 선택한 데이터를 다시 선택 가능 (복원/비복원 추출) True -> 복원 / False -> 비복원\n",
        "* p : 배열. 각 데이터가 선택될 수 있는 확률"
      ],
      "metadata": {
        "id": "gEkehbizKWrq"
      }
    },
    {
      "cell_type": "code",
      "source": [
        "np.random.choice(5, 5, replace = False)   # 5개 중 5개를 선택 -> 비복원 -> shuffle"
      ],
      "metadata": {
        "colab": {
          "base_uri": "https://localhost:8080/"
        },
        "id": "YvjoHXqIJ9KJ",
        "outputId": "12f13c65-f24d-4f30-e002-6c73dae0a454"
      },
      "execution_count": 42,
      "outputs": [
        {
          "output_type": "execute_result",
          "data": {
            "text/plain": [
              "array([0, 4, 2, 1, 3])"
            ]
          },
          "metadata": {},
          "execution_count": 42
        }
      ]
    },
    {
      "cell_type": "code",
      "source": [
        "np.random.choice(5, 3, replace = False)   # 5개 중 3개를 선택 -> 비복원 -> shuffle"
      ],
      "metadata": {
        "colab": {
          "base_uri": "https://localhost:8080/"
        },
        "id": "knplEnwIKnYh",
        "outputId": "f710324f-9099-448e-b142-5d88929f9012"
      },
      "execution_count": 43,
      "outputs": [
        {
          "output_type": "execute_result",
          "data": {
            "text/plain": [
              "array([4, 2, 3])"
            ]
          },
          "metadata": {},
          "execution_count": 43
        }
      ]
    },
    {
      "cell_type": "code",
      "source": [
        "np.random.choice(5, 10, replace = True)   # 5개 중 10개를 선택 -> 복원 -> shuffle"
      ],
      "metadata": {
        "colab": {
          "base_uri": "https://localhost:8080/"
        },
        "id": "4Yd_3i6QKqMw",
        "outputId": "26087214-53f6-4613-f103-0979aea9eac6"
      },
      "execution_count": 52,
      "outputs": [
        {
          "output_type": "execute_result",
          "data": {
            "text/plain": [
              "array([1, 4, 2, 3, 0, 3, 2, 3, 0, 0])"
            ]
          },
          "metadata": {},
          "execution_count": 52
        }
      ]
    },
    {
      "cell_type": "code",
      "source": [
        "np.random.choice(5, 10,p=(0.1,0, 0.3,0.6,0), replace = True)    # p=() 를 통해 각 요소의 확률을 설정할 수 있다."
      ],
      "metadata": {
        "colab": {
          "base_uri": "https://localhost:8080/"
        },
        "id": "lkbuDYTuKvBN",
        "outputId": "aebef82f-e6b4-4bb8-f278-9679f0f144c2"
      },
      "execution_count": 54,
      "outputs": [
        {
          "output_type": "execute_result",
          "data": {
            "text/plain": [
              "array([3, 3, 2, 3, 3, 3, 3, 3, 3, 2])"
            ]
          },
          "metadata": {},
          "execution_count": 54
        }
      ]
    },
    {
      "cell_type": "markdown",
      "source": [
        "## 난수 생성\n",
        "* `rand` : 0부터 1 사이의 균일 분포\n",
        "* `randn` : 표준 정규 분포\n",
        "* `randint` : 균일 분포의 정수 난수"
      ],
      "metadata": {
        "id": "D8oZhgNLLCgd"
      }
    },
    {
      "cell_type": "markdown",
      "source": [
        "### `rand` : 0부터 1 사이에서 균일한 확률 분포로 실수 난수를 생성\n",
        "* 숫자 인수는 생성할 난수의 크기\n",
        "* 여러 개의 인수를 넣으면 해당 크기를 가진 행렬을 생성"
      ],
      "metadata": {
        "id": "BcH0M0-_LPMP"
      }
    },
    {
      "cell_type": "code",
      "source": [
        "np.random.rand(10)  # 길이가 10인 1차원 배열"
      ],
      "metadata": {
        "colab": {
          "base_uri": "https://localhost:8080/"
        },
        "id": "EWqs3z-zK0k_",
        "outputId": "8230eb9f-21d4-4e7c-f03b-65aae6df70be"
      },
      "execution_count": 58,
      "outputs": [
        {
          "output_type": "execute_result",
          "data": {
            "text/plain": [
              "array([0.46924917, 0.84114013, 0.90464774, 0.03755938, 0.50831545,\n",
              "       0.16684751, 0.77905102, 0.8649333 , 0.41139672, 0.13997259])"
            ]
          },
          "metadata": {},
          "execution_count": 58
        }
      ]
    },
    {
      "cell_type": "code",
      "source": [
        "np.random.rand(3,5) # (3,5) 모양의 2차원 배열"
      ],
      "metadata": {
        "colab": {
          "base_uri": "https://localhost:8080/"
        },
        "id": "DJTNzp8oLbVj",
        "outputId": "6f059492-807e-4201-81f5-bca0a11ebeb8"
      },
      "execution_count": 59,
      "outputs": [
        {
          "output_type": "execute_result",
          "data": {
            "text/plain": [
              "array([[0.03322239, 0.98257496, 0.37329075, 0.42007537, 0.05058812],\n",
              "       [0.36549611, 0.01662797, 0.23074234, 0.7649117 , 0.94412352],\n",
              "       [0.74999925, 0.33940382, 0.48954894, 0.33898512, 0.17949026]])"
            ]
          },
          "metadata": {},
          "execution_count": 59
        }
      ]
    },
    {
      "cell_type": "markdown",
      "source": [
        "### `randn` : 기댓값이 0이고 표준편차가 1인 표준 정규 분포(standard normal distribution)를 따르는 난수를 생성"
      ],
      "metadata": {
        "id": "HdWD5uVkLjQt"
      }
    },
    {
      "cell_type": "code",
      "source": [
        "np.random.randn(10)"
      ],
      "metadata": {
        "colab": {
          "base_uri": "https://localhost:8080/"
        },
        "id": "AlJYbewHLeZB",
        "outputId": "b0fea2d5-1aee-462b-cfbc-95f9ddb740b0"
      },
      "execution_count": 62,
      "outputs": [
        {
          "output_type": "execute_result",
          "data": {
            "text/plain": [
              "array([ 1.15184215,  0.13804288, -0.14780553,  1.68382745,  0.97183213,\n",
              "        1.60767401, -0.25712774,  1.80981769,  0.8923485 , -0.09657613])"
            ]
          },
          "metadata": {},
          "execution_count": 62
        }
      ]
    },
    {
      "cell_type": "code",
      "source": [
        "np.random.randn(3,5)"
      ],
      "metadata": {
        "colab": {
          "base_uri": "https://localhost:8080/"
        },
        "id": "gbDMC1OxLt3f",
        "outputId": "5b942b6d-c191-4932-d1f7-7e7c30843b03"
      },
      "execution_count": 63,
      "outputs": [
        {
          "output_type": "execute_result",
          "data": {
            "text/plain": [
              "array([[-0.37715702, -0.50529774, -1.36267113,  1.13312703, -0.70068976],\n",
              "       [-1.7683479 ,  0.34041728,  0.72924169, -1.08835382, -2.87777873],\n",
              "       [-0.66147769,  0.70592839, -0.35859784,  0.73198245, -0.03636653]])"
            ]
          },
          "metadata": {},
          "execution_count": 63
        }
      ]
    },
    {
      "cell_type": "markdown",
      "source": [
        "### `randint`\n",
        "```\n",
        "numpy.random.randint(low, high=None, size=None)\n",
        "```\n",
        "만약 `high`를 입력하지 않으면 0과 `low`사이의 숫자, `high`를 입력하면 `low`와 `high`는 사이의 숫자를 출력. `size`는 난수의 숫자"
      ],
      "metadata": {
        "id": "FDtGkcnjLzTM"
      }
    },
    {
      "cell_type": "code",
      "source": [
        "np.random.randint(10) # 최댓값 -> 그것보다 작은 범위에서의 랜덤 숫자, size=1 default\n",
        "# 끝점은 제외"
      ],
      "metadata": {
        "colab": {
          "base_uri": "https://localhost:8080/"
        },
        "id": "H5eTlhBGLy_D",
        "outputId": "22411e22-e7b5-465b-827a-6e4214429127"
      },
      "execution_count": 66,
      "outputs": [
        {
          "output_type": "execute_result",
          "data": {
            "text/plain": [
              "8"
            ]
          },
          "metadata": {},
          "execution_count": 66
        }
      ]
    },
    {
      "cell_type": "code",
      "source": [
        "np.random.randint(10,size=10)"
      ],
      "metadata": {
        "colab": {
          "base_uri": "https://localhost:8080/"
        },
        "id": "xlpHLyNALuyj",
        "outputId": "11101b1f-030c-4882-c016-1b9afbe859e0"
      },
      "execution_count": 67,
      "outputs": [
        {
          "output_type": "execute_result",
          "data": {
            "text/plain": [
              "array([5, 0, 8, 5, 4, 7, 4, 1, 3, 3])"
            ]
          },
          "metadata": {},
          "execution_count": 67
        }
      ]
    },
    {
      "cell_type": "code",
      "source": [
        "np.random.randint(10,20,size=10)"
      ],
      "metadata": {
        "colab": {
          "base_uri": "https://localhost:8080/"
        },
        "id": "RwOU04I2ME1f",
        "outputId": "f040f561-8f91-4d31-a4c6-867385d7177b"
      },
      "execution_count": 69,
      "outputs": [
        {
          "output_type": "execute_result",
          "data": {
            "text/plain": [
              "array([16, 15, 10, 10, 13, 11, 19, 19, 16, 16])"
            ]
          },
          "metadata": {},
          "execution_count": 69
        }
      ]
    },
    {
      "cell_type": "code",
      "source": [
        "np.random.randint(10, 20, size=(3,5))"
      ],
      "metadata": {
        "colab": {
          "base_uri": "https://localhost:8080/"
        },
        "id": "g6a1fmbqUi4c",
        "outputId": "48c32cc6-7c7a-4b21-83f0-311672fcbb65"
      },
      "execution_count": 70,
      "outputs": [
        {
          "output_type": "execute_result",
          "data": {
            "text/plain": [
              "array([[17, 18, 18, 17, 10],\n",
              "       [18, 16, 18, 19, 18],\n",
              "       [13, 16, 11, 17, 14]])"
            ]
          },
          "metadata": {},
          "execution_count": 70
        }
      ]
    },
    {
      "cell_type": "markdown",
      "source": [
        "## 💡 연습문제 7\n",
        "1. 동전을 10번 던져 앞면(숫자 1)과 뒷면(숫자 0)이 나오는 가상 실험을 작성하라\n",
        "2. 주사위를 100번 던져서 나오는 숫자의 평균\n",
        "3. 가격이 10,000원인 주식이 있다. 이 주식의 일간 수익률(%)은 기댓값이 0%이고 표준편차가 1%인 표준 정규 분포를 따른다고 하자. 250일 동안의 주가를 무작위로 생성하라"
      ],
      "metadata": {
        "id": "dCofCh17MOVI"
      }
    },
    {
      "cell_type": "code",
      "source": [
        "# 1.\n",
        "np.random.choice(['HEAD','TAIL'],10,replace = True)"
      ],
      "metadata": {
        "colab": {
          "base_uri": "https://localhost:8080/"
        },
        "id": "wSVBjqWJMGJ3",
        "outputId": "4dbdc8b9-8553-41cf-fd14-4f849c73bed8"
      },
      "execution_count": 76,
      "outputs": [
        {
          "output_type": "execute_result",
          "data": {
            "text/plain": [
              "array(['TAIL', 'HEAD', 'HEAD', 'TAIL', 'TAIL', 'TAIL', 'HEAD', 'HEAD',\n",
              "       'TAIL', 'TAIL'], dtype='<U4')"
            ]
          },
          "metadata": {},
          "execution_count": 76
        }
      ]
    },
    {
      "cell_type": "code",
      "source": [
        "# 2.\n",
        "a = np.random.randint(1,6,100)\n",
        "print(a)\n",
        "a.mean()"
      ],
      "metadata": {
        "colab": {
          "base_uri": "https://localhost:8080/"
        },
        "id": "rpstIcwsNB-3",
        "outputId": "f8e5adf1-7ae1-404e-ac40-fc8ac89a0875"
      },
      "execution_count": 75,
      "outputs": [
        {
          "output_type": "stream",
          "name": "stdout",
          "text": [
            "[5 2 4 2 4 3 5 2 5 2 5 2 3 3 4 2 3 3 5 3 3 4 1 5 3 1 1 3 4 2 4 3 5 2 2 3 3\n",
            " 5 4 5 3 5 3 2 5 1 2 1 3 1 4 3 1 3 4 1 1 2 1 1 3 4 5 4 4 1 5 5 4 3 5 5 4 2\n",
            " 5 4 2 4 4 3 1 2 1 2 2 5 3 3 4 1 4 3 4 3 3 2 4 2 4 3]\n"
          ]
        },
        {
          "output_type": "execute_result",
          "data": {
            "text/plain": [
              "3.09"
            ]
          },
          "metadata": {},
          "execution_count": 75
        }
      ]
    },
    {
      "cell_type": "code",
      "source": [
        "# 3.\n",
        "np.random.randn(250)  # 정규분포\n",
        "# 평균(기댓값)이 0이고, 표준편차가 1인 정규분포. 1% -> 0.01"
      ],
      "metadata": {
        "colab": {
          "base_uri": "https://localhost:8080/"
        },
        "id": "zrCTnmQBNjbm",
        "outputId": "1b936636-8620-420a-ff30-210241d521f3"
      },
      "execution_count": 80,
      "outputs": [
        {
          "output_type": "execute_result",
          "data": {
            "text/plain": [
              "array([ 0.19542732,  0.88308214, -0.21375045,  0.18549847, -0.43496697,\n",
              "        0.22340882, -1.54575857,  0.74248006,  0.82212466, -0.13879081,\n",
              "        1.79634011, -0.56054016, -0.58251659, -2.42203947,  1.38143418,\n",
              "        0.19999839, -0.37114816,  0.97271041, -0.23967655, -1.69813521,\n",
              "       -0.53486028,  0.20071687,  0.49822632,  1.10275456,  1.03827778,\n",
              "        0.90845349,  2.34373684,  2.25250633, -0.99866621, -1.21859544,\n",
              "        1.47891627, -0.51057994,  1.99225765, -0.1254445 , -0.19507484,\n",
              "       -0.240614  , -0.56594177, -1.5770323 ,  1.32629646,  0.91903778,\n",
              "        1.16765145, -0.22799261, -0.24403064, -0.09315488, -0.17217058,\n",
              "       -0.67821443, -0.24977826,  1.55756892,  0.74275657, -0.44376291,\n",
              "       -0.96357356,  0.88917874,  1.23725419,  0.17552763,  1.13944448,\n",
              "        0.03398465, -0.83277398,  1.2887339 , -0.17185518,  0.53883768,\n",
              "        1.97857012,  0.88902021,  0.19914095, -1.78366635,  1.71287327,\n",
              "       -0.96326188,  1.36908831,  0.4721129 , -0.88036755,  0.03576449,\n",
              "        1.21776403,  0.30661864, -0.9397773 ,  0.65881747, -1.31220245,\n",
              "       -0.64825061,  0.31897738,  2.54005292, -0.68414934, -0.779569  ,\n",
              "       -0.6423825 ,  1.28454902,  0.67914416,  1.37264902, -0.92577253,\n",
              "        1.27826781,  0.36076044,  0.59566232, -0.59472012, -0.90794733,\n",
              "       -1.05132333,  0.09253448, -1.37527041, -1.34648009, -0.64742558,\n",
              "        1.12408204,  1.22581033, -0.11564503, -0.3010327 , -1.29939933,\n",
              "       -0.01222978, -0.09606648, -0.84322657,  0.68840766, -0.33394045,\n",
              "       -0.34912329,  1.87890335,  0.51289346, -1.59829061,  0.62167093,\n",
              "       -0.78626152,  0.184379  ,  0.50581655, -0.76710873,  0.51442316,\n",
              "       -0.01781979,  1.67348808, -0.20932018, -0.76060903,  0.54903743,\n",
              "        1.61072805,  0.6331512 ,  0.1053454 ,  1.93541408,  1.78899159,\n",
              "        1.45700153,  0.719828  , -0.85700089,  0.78912268, -1.36213792,\n",
              "        1.22763291,  0.5926462 ,  1.5937048 , -0.80662172,  0.832967  ,\n",
              "        0.04852403, -1.26135739, -0.37708382,  0.89992903,  0.81113724,\n",
              "       -0.90345253,  0.00336566,  0.42882622, -1.54471138, -1.53759721,\n",
              "        0.65872557,  0.94146359,  0.32609809,  0.63551923, -1.40729034,\n",
              "       -0.28473707,  1.18778665,  0.77176265, -0.10539876,  2.50264545,\n",
              "        0.26279563, -0.3525333 ,  1.17390053, -0.02787465, -0.79000299,\n",
              "       -0.01625444,  0.5152652 , -0.28143394,  0.10263516, -0.03623992,\n",
              "       -2.05585166, -0.8640455 , -0.1655707 ,  1.45913908,  0.07588739,\n",
              "        1.47018939,  0.69303439,  1.61700112, -0.96796873,  1.39241426,\n",
              "       -1.00146971,  1.98803388, -1.67218867, -1.69642696,  0.46062503,\n",
              "        0.82293674, -0.42394496, -0.29928932, -0.02557865, -0.5789237 ,\n",
              "        0.88292964,  0.1951693 , -0.2148443 ,  0.67505911,  0.07998473,\n",
              "        0.75275396, -1.25719337,  0.28985118, -0.31398504, -0.47184063,\n",
              "       -0.31179584, -0.42335249,  1.08913877,  0.11775073, -0.18738528,\n",
              "        0.08209634, -0.0579702 , -1.57454699,  0.68566128,  0.49254723,\n",
              "       -0.4904677 , -0.36330089,  0.20231274,  0.51072522, -0.3270244 ,\n",
              "        0.45981537, -0.35255617, -0.87459804, -0.19559588, -0.11321553,\n",
              "       -1.28578488,  0.74669605, -1.77642557, -0.41767953, -0.09525197,\n",
              "        0.80575846, -2.32794756,  1.76318737, -1.20257165, -1.04652102,\n",
              "       -0.82627065, -0.64131461, -2.16175624, -0.10284551, -0.49667392,\n",
              "       -0.19395502,  1.73557918, -0.84543175, -1.39732206, -0.22218553,\n",
              "       -0.89714331, -0.04092637,  0.73344636, -1.07090329,  2.61087309,\n",
              "        1.37769382,  0.2672721 ,  0.71547066, -0.26577229,  0.0797146 ,\n",
              "       -0.26691625, -0.97667533,  0.3720667 ,  1.53708627, -0.82185617])"
            ]
          },
          "metadata": {},
          "execution_count": 80
        }
      ]
    },
    {
      "cell_type": "code",
      "source": [
        "a = np.random.randn(250) / 100  # 일간 수익률이 표준정규분포를 따르는 (0과 0.01 표준편차)\n",
        "a"
      ],
      "metadata": {
        "colab": {
          "base_uri": "https://localhost:8080/"
        },
        "id": "C7CgIfRJN7lQ",
        "outputId": "b17fb7fb-6781-4d0e-8810-5875a6ea97fa"
      },
      "execution_count": 81,
      "outputs": [
        {
          "output_type": "execute_result",
          "data": {
            "text/plain": [
              "array([ 6.16693484e-03, -4.83124794e-04, -2.63599390e-02,  7.61695042e-03,\n",
              "        3.39616645e-03,  7.04954506e-03, -1.77604715e-03, -6.62945346e-03,\n",
              "       -4.81292379e-03,  2.82162753e-03, -1.97998382e-02,  7.05875100e-04,\n",
              "        3.16518157e-04, -3.16807946e-03, -8.42660878e-03,  8.09208583e-03,\n",
              "       -6.15203658e-03,  3.95073786e-03,  2.81736725e-03,  7.02239354e-04,\n",
              "        4.48598034e-03, -1.05500120e-02, -2.93096159e-02, -1.57882459e-03,\n",
              "        2.14352836e-03,  1.48138574e-02, -1.30837000e-02, -2.06759510e-03,\n",
              "        1.00685306e-03, -6.51130021e-03, -9.92551905e-03, -7.48094255e-03,\n",
              "       -6.37516124e-03, -2.05942357e-03, -6.40029520e-03, -5.56361846e-03,\n",
              "        8.02066648e-03,  1.30762130e-02, -6.57765434e-03, -7.50422627e-03,\n",
              "        1.67921568e-02, -1.57022838e-02,  4.84574151e-03, -3.03721222e-03,\n",
              "       -1.54884228e-02, -6.86048242e-03, -1.54123621e-03, -2.05925617e-02,\n",
              "       -4.10652750e-04, -4.10497699e-03, -3.91816455e-03, -7.62690187e-03,\n",
              "       -7.08212776e-03,  9.74518686e-03,  7.57906169e-03, -1.03260419e-02,\n",
              "       -4.13877561e-03, -1.36578019e-02,  1.18248765e-02, -1.71707457e-02,\n",
              "        1.13049682e-02,  5.96896133e-03,  4.63415706e-03, -1.30779330e-02,\n",
              "       -7.06379511e-03, -1.20486731e-02, -2.22090793e-04,  1.42549674e-02,\n",
              "        6.96003786e-03,  3.85415705e-03,  1.81937606e-03,  1.54492747e-02,\n",
              "        1.65067561e-02,  8.97956720e-03,  9.42505930e-03,  8.79762208e-03,\n",
              "       -6.53570360e-03,  1.48239974e-03,  2.14575038e-03,  1.59926014e-03,\n",
              "        1.60229350e-03,  6.91798284e-03, -5.33854238e-03, -9.52189238e-03,\n",
              "        1.18046827e-02,  1.18595818e-02,  1.19617694e-02,  1.35290868e-02,\n",
              "        1.15196054e-02,  1.43088146e-02,  3.99343762e-03, -4.38805806e-03,\n",
              "       -7.87260995e-03, -7.47284115e-03,  1.21725687e-02,  1.62525740e-02,\n",
              "        1.38770405e-02, -3.59710634e-03, -1.85315125e-02,  1.06759000e-02,\n",
              "        7.20932620e-03, -1.21823351e-02,  1.56961668e-02, -6.20950888e-04,\n",
              "        1.79858354e-05, -2.33339597e-02,  4.56590764e-03, -8.89740077e-03,\n",
              "       -1.17343162e-03, -7.54942719e-03,  9.23762589e-03,  4.25449350e-03,\n",
              "       -7.62162116e-03, -3.82103182e-03,  1.02431132e-03,  1.04976737e-02,\n",
              "       -2.10844961e-02,  1.31266068e-02, -1.43066977e-02,  2.12001210e-02,\n",
              "       -5.42099966e-03, -1.26126210e-02,  4.61978827e-03, -1.26658163e-02,\n",
              "       -1.04391728e-02, -3.50228173e-04,  6.54491993e-03,  2.40564326e-03,\n",
              "        4.17097858e-03, -6.73563762e-03, -4.44660384e-03,  1.66641031e-03,\n",
              "        7.18270830e-08,  5.50881042e-03,  2.02988415e-03, -1.27981550e-02,\n",
              "        7.24283277e-03,  6.29974574e-03, -2.89174907e-03,  2.13916993e-03,\n",
              "        6.55055561e-03, -2.63656613e-03, -4.43422335e-03,  4.27655886e-03,\n",
              "       -1.14728163e-02, -2.00990229e-03, -1.17432591e-02, -1.50860370e-02,\n",
              "        2.90713676e-03, -7.48194964e-03, -8.75933862e-03,  1.49829385e-03,\n",
              "        9.20523695e-03, -2.71774553e-03, -3.44742168e-03, -1.71526936e-03,\n",
              "        5.90497283e-03, -4.28455265e-03, -2.13630025e-02, -1.63152048e-02,\n",
              "       -1.06777262e-02,  9.36560156e-03, -3.41237859e-03, -1.10303525e-03,\n",
              "        1.79111600e-03,  3.68911213e-03, -5.57674814e-03,  6.33278358e-04,\n",
              "       -1.62720671e-02,  7.63970931e-03, -1.26888049e-02, -1.97118832e-03,\n",
              "        8.08453665e-04,  2.06708840e-02,  7.10744672e-03, -1.64990408e-02,\n",
              "        5.13390835e-03, -5.32064833e-03, -4.28787766e-03,  7.39996726e-03,\n",
              "        6.56963727e-03,  1.57471823e-02,  2.45216450e-02, -6.40589251e-03,\n",
              "       -2.09769460e-03, -3.48884215e-03, -1.36726965e-02,  6.94036270e-03,\n",
              "        2.01061334e-02, -8.12619682e-03, -1.14908979e-02, -5.25129064e-03,\n",
              "        4.48300817e-03,  2.65479314e-04, -8.42502478e-03, -7.03352346e-03,\n",
              "       -7.32220599e-03, -1.94326958e-03,  3.43434643e-02,  6.35736538e-05,\n",
              "        7.88770194e-03, -1.54265538e-03, -8.00413149e-03,  2.19491275e-02,\n",
              "        2.56534813e-03,  2.09578889e-02, -3.81446460e-03,  4.64209111e-03,\n",
              "        1.23596385e-02, -6.47560656e-03,  1.36192800e-02, -7.28687217e-03,\n",
              "        2.38562196e-02, -4.96384821e-03,  2.77982452e-03,  1.34594423e-03,\n",
              "       -1.64366629e-03,  2.06596462e-03,  1.83086115e-02,  6.72418375e-03,\n",
              "        6.22961727e-03,  3.54823623e-03,  1.43286697e-02, -3.26332602e-03,\n",
              "        1.72761349e-02,  6.31554054e-03,  7.83741810e-03, -1.31804322e-04,\n",
              "       -3.27422445e-03, -7.95007877e-04, -5.24407922e-03,  1.13632842e-02,\n",
              "       -2.50419918e-02,  1.89294890e-02, -2.80630270e-03,  2.07586626e-02,\n",
              "        2.05046722e-02,  2.76670144e-03,  2.06621990e-02,  5.43008511e-03,\n",
              "       -2.88702644e-03,  1.25925994e-02,  6.78781490e-03, -8.67643470e-03,\n",
              "       -4.73023553e-03, -1.31819717e-02,  1.22553862e-02,  1.14195753e-02,\n",
              "       -2.28055640e-03,  1.19326568e-04])"
            ]
          },
          "metadata": {},
          "execution_count": 81
        }
      ]
    },
    {
      "cell_type": "code",
      "source": [
        "start = 10000  # 가격이 10000원 -> 250일 -> 평균/표준편차가 반영되면서 250일.\n",
        "\n",
        "price = np.empty(250)  # 자리\n",
        "\n",
        "for i, v in enumerate(a): # a -> 가격이 0의 기댓값, 1%의 표준편차를 바탕으로 250일치의 변화율이 생성\n",
        "\n",
        "    start *= (1 + v)  # i = index, v = 변화율\n",
        "    # -> 해당 금액의 변화율이 반영된 금액\n",
        "\n",
        "    price[i] = start  # 변화율에 따라서 변경된 금액에 배열에 저장.\n",
        "    # 한 번씩 for이 돌때마다 -> index += 1 => 계속 변화율이 반영된 금액들이 다음 인덱스에 저장"
      ],
      "metadata": {
        "id": "ya3K754kaO_L"
      },
      "execution_count": 82,
      "outputs": []
    },
    {
      "cell_type": "code",
      "source": [
        "price"
      ],
      "metadata": {
        "colab": {
          "base_uri": "https://localhost:8080/"
        },
        "id": "-XeK05zubdXa",
        "outputId": "15c2bd47-30b7-4815-f73c-aeecf712a61f"
      },
      "execution_count": 83,
      "outputs": [
        {
          "output_type": "execute_result",
          "data": {
            "text/plain": [
              "array([10061.66934845, 10056.80830651,  9791.71145332,  9866.29443398,\n",
              "        9899.8020121 ,  9969.59111246,  9951.88464861,  9885.90909247,\n",
              "        9838.32896537,  9866.08906521,  9670.74209818,  9677.56843422,\n",
              "        9680.63156035,  9649.96255037,  9568.64609122,  9646.07639665,\n",
              "        9586.73338179,  9624.60805228,  9651.72410784,  9658.50192835,\n",
              "        9701.82977809,  9599.47535722,  9318.11842138,  9303.40674692,\n",
              "        9323.34886312,  9461.46362401,  9337.67267281,  9318.36614651,\n",
              "        9327.74837199,  9267.01260204,  9175.0326919 ,  9106.39479948,\n",
              "        9048.34006435,  9029.70569953,  8971.91291749,  8921.99661713,\n",
              "        8993.55697635,  9111.1586427 ,  9051.22859054,  8983.30612316,\n",
              "        9134.1552079 ,  8990.7281101 ,  9034.29485453,  9006.85578378,\n",
              "        8867.35379288,  8806.5194681 ,  8792.94654137,  8611.87724709,\n",
              "        8608.34075602,  8573.0037153 ,  8539.41327609,  8474.28400898,\n",
              "        8414.26804693,  8496.2666613 ,  8560.66039047,  8472.26265255,\n",
              "        8437.19785852,  8321.96428161,  8420.37048156,  8275.78644107,\n",
              "        8369.34394364,  8419.30023402,  8458.31659361,  8347.69929612,\n",
              "        8288.73285869,  8188.86462638,  8187.04595494,  8303.75202805,\n",
              "        8361.54645652,  8393.77316975,  8409.04459967,  8538.95823981,\n",
              "        8679.90874055,  8757.85056438,  8840.39382525,  8918.16826918,\n",
              "        8859.88176468,  8873.01565112,  8892.05492781,  8906.27563679,\n",
              "        8920.54610435,  8982.25828925,  8934.30612268,  8849.23462127,\n",
              "        8953.69702793,  9059.88413045,  9168.25637535,  9292.29451188,\n",
              "        9399.33807798,  9533.83146392,  9571.90422513,  9529.90215366,\n",
              "        9454.87695111,  9384.22215758,  9498.45224681,  9652.82654453,\n",
              "        9786.77920933,  9751.5751238 ,  9570.86368764,  9673.04127162,\n",
              "        9742.77738146,  9624.08760255,  9775.1488866 ,  9769.07899922,\n",
              "        9769.25470426,  9541.29930913,  9584.86400052,  9499.58362415,\n",
              "        9488.43651232,  9416.80425168,  9503.79316643,  9544.22699268,\n",
              "        9471.48451029,  9435.29366655,  9444.9583447 ,  9544.10843546,\n",
              "        9342.87571857,  9465.51597466,  9330.09569895,  9527.8948563 ,\n",
              "        9476.24414156,  9356.72386547,  9399.94994859,  9280.89190894,\n",
              "        9184.00707495,  9180.79057693,  9240.87811613,  9263.10837232,\n",
              "        9301.74459896,  9239.09141815,  9198.00883873,  9213.33649549,\n",
              "        9213.33715726,  9264.09168496,  9282.89671782,  9164.09276687,\n",
              "        9230.46675831,  9288.61635197,  9261.75600422,  9281.56847419,\n",
              "        9342.36790458,  9317.73613381,  9276.41921066,  9316.09036346,\n",
              "        9209.20857033,  9190.6989609 ,  9082.77020193,  8945.74719441,\n",
              "        8971.75370494,  8904.62749554,  8826.62884802,  8839.8537317 ,\n",
              "        8921.22667988,  8896.98105597,  8866.30941062,  8851.10130173,\n",
              "        8903.36681441,  8865.21987052,  8675.83215663,  8534.28417799,\n",
              "        8443.15742804,  8522.23267645,  8493.1515921 ,  8483.78334649,\n",
              "        8498.9787866 ,  8530.3324723 ,  8482.76095653,  8488.13290545,\n",
              "        8350.01343707,  8413.80511243,  8307.04398125,  8290.66923315,\n",
              "        8297.37185507,  8468.8858662 ,  8529.07802125,  8388.35641541,\n",
              "        8431.42146845,  8386.56083991,  8350.60029304,  8412.39446183,\n",
              "        8467.66084204,  8601.00264109,  8811.9133743 ,  8755.46520439,\n",
              "        8737.09891228,  8706.61655334,  8587.57362738,  8647.17450306,\n",
              "        8821.03574686,  8749.35427424,  8648.81633714,  8603.39888885,\n",
              "        8641.96799636,  8644.26226009,  8571.43413633,  8511.14675327,\n",
              "        8448.82638355,  8432.40803624,  8722.00614026,  8722.56063006,\n",
              "        8791.36158849,  8777.79954725,  8707.54088548,  8898.66381017,\n",
              "        8921.49198073,  9108.46761806,  9073.72369074,  9115.84474285,\n",
              "        9228.5132887 ,  9168.75306753,  9293.62488254,  9225.90342607,\n",
              "        9445.9986042 ,  9399.11010095,  9425.23797766,  9437.92382235,\n",
              "        9422.41102512,  9441.8773929 ,  9614.74505787,  9679.39637038,\n",
              "        9739.69530519,  9774.2540449 ,  9914.30610246,  9881.95248938,\n",
              "       10052.67443322, 10116.16250619, 10195.44710129, 10194.10329729,\n",
              "       10160.72551505, 10152.64765824, 10099.40636963, 10214.16879445,\n",
              "        9958.38566335, 10146.89281535, 10118.41756268, 10328.46237866,\n",
              "       10540.24411438, 10569.40582297, 10787.79298972, 10846.37162382,\n",
              "       10815.0578622 , 10951.24755322, 11025.58259454, 10929.91984714,\n",
              "       10878.21875192, 10734.82238059, 10866.38177468, 10990.47123984,\n",
              "       10965.40685035, 10966.71531472])"
            ]
          },
          "metadata": {},
          "execution_count": 83
        }
      ]
    },
    {
      "cell_type": "markdown",
      "source": [
        "## 정수 데이터 카운팅\n",
        "* 만약 난수가 정수값이면 unique 명령이나 bincount 명령으로 데이터 값을 분석"
      ],
      "metadata": {
        "id": "zc2junJdO2d8"
      }
    },
    {
      "cell_type": "markdown",
      "source": [
        "### `unique`\n",
        "* unique 함수는 데이터에서 중복된 값을 제거하고 중복되지 않는 값의 리스트를 출력\n",
        "* return_counts 인수를 True 로 설정하면 각 값을 가진 데이터 갯수도 출력\n"
      ],
      "metadata": {
        "id": "NQWG8zU8PJtG"
      }
    },
    {
      "cell_type": "code",
      "source": [
        "np.unique([11,11,2,2,34,34])"
      ],
      "metadata": {
        "colab": {
          "base_uri": "https://localhost:8080/"
        },
        "id": "Zy46ohsVPDJv",
        "outputId": "e315a971-814f-47cb-bcea-051fb66910f0"
      },
      "execution_count": 84,
      "outputs": [
        {
          "output_type": "execute_result",
          "data": {
            "text/plain": [
              "array([ 2, 11, 34])"
            ]
          },
          "metadata": {},
          "execution_count": 84
        }
      ]
    },
    {
      "cell_type": "code",
      "source": [
        "a= np.array(list('abbca'))\n",
        "a"
      ],
      "metadata": {
        "id": "9l5BuLbwPPQF",
        "colab": {
          "base_uri": "https://localhost:8080/"
        },
        "outputId": "bd506cb6-d76e-4d85-edf1-cf489d4dc339"
      },
      "execution_count": 85,
      "outputs": [
        {
          "output_type": "execute_result",
          "data": {
            "text/plain": [
              "array(['a', 'b', 'b', 'c', 'a'], dtype='<U1')"
            ]
          },
          "metadata": {},
          "execution_count": 85
        }
      ]
    },
    {
      "cell_type": "code",
      "source": [
        "np.unique(a, return_counts=True)"
      ],
      "metadata": {
        "colab": {
          "base_uri": "https://localhost:8080/"
        },
        "id": "kMLRdBasPQ4L",
        "outputId": "75d3a923-54f4-4547-9323-73a407274397"
      },
      "execution_count": 86,
      "outputs": [
        {
          "output_type": "execute_result",
          "data": {
            "text/plain": [
              "(array(['a', 'b', 'c'], dtype='<U1'), array([2, 2, 1]))"
            ]
          },
          "metadata": {},
          "execution_count": 86
        }
      ]
    },
    {
      "cell_type": "code",
      "source": [
        "index, value = np.unique(a, return_counts = True)\n",
        "index, value"
      ],
      "metadata": {
        "colab": {
          "base_uri": "https://localhost:8080/"
        },
        "id": "Kpx6OGmoPRi1",
        "outputId": "fc49c909-80de-429c-a687-2747387dc05b"
      },
      "execution_count": 94,
      "outputs": [
        {
          "output_type": "execute_result",
          "data": {
            "text/plain": [
              "(array(['a', 'b', 'c'], dtype='<U1'), array([2, 2, 1]))"
            ]
          },
          "metadata": {},
          "execution_count": 94
        }
      ]
    },
    {
      "cell_type": "code",
      "source": [
        "list(zip(index,value))    # 같은 인덱스에 있는 값끼리 튜플화시켜서 묶어줌\n",
        "# index, value == *np.unique(a, return_counts=True)"
      ],
      "metadata": {
        "colab": {
          "base_uri": "https://localhost:8080/"
        },
        "id": "-Cl1OJjEdZW4",
        "outputId": "23cf90cb-0c73-4e5c-dd30-7e704ac24a13"
      },
      "execution_count": 95,
      "outputs": [
        {
          "output_type": "execute_result",
          "data": {
            "text/plain": [
              "[('a', 2), ('b', 2), ('c', 1)]"
            ]
          },
          "metadata": {},
          "execution_count": 95
        }
      ]
    },
    {
      "cell_type": "code",
      "source": [
        "# dict(np.unique(a, return_counts=True))  #ValueError: dictionary update sequence element #0 has length 3; 2 is required"
      ],
      "metadata": {
        "id": "wKHs7VzzdDcp"
      },
      "execution_count": 99,
      "outputs": []
    },
    {
      "cell_type": "code",
      "source": [
        "dict(zip(*np.unique(a, return_counts=True)))"
      ],
      "metadata": {
        "colab": {
          "base_uri": "https://localhost:8080/"
        },
        "id": "YudtIi43dRnL",
        "outputId": "44dd08c0-b7d9-45a5-cbf9-cbca40cea3db"
      },
      "execution_count": 100,
      "outputs": [
        {
          "output_type": "execute_result",
          "data": {
            "text/plain": [
              "{'a': 2, 'b': 2, 'c': 1}"
            ]
          },
          "metadata": {},
          "execution_count": 100
        }
      ]
    },
    {
      "cell_type": "markdown",
      "source": [
        "### `bincount`\n",
        "* `unique` 함수는 데이터에 존재하는 값에 대해서만 갯수를 세므로 데이터 값이 나올 수 있음에도 불구하고 데이터가 하나도 없는 경우에는 정보를 주지 않음\n",
        "* 따라서 데이터가 주사위를 던졌을 때 나오는 수처럼 특정 범위안의 수인 경우에는 `bincount` 함수에 `minlength` 인수를 설정하여 쓰는 것이 더 편리\n",
        "* `bincount` 함수는 0 부터 `minlength` - 1 까지의 숫자에 대해 각각 카운트\n",
        "* 데이터가 없을 경우에는 카운트 값이 0이 됨"
      ],
      "metadata": {
        "id": "GihAHqezPWii"
      }
    },
    {
      "cell_type": "code",
      "source": [
        "np.bincount([1,1,2,2,2,3], minlength=6)"
      ],
      "metadata": {
        "colab": {
          "base_uri": "https://localhost:8080/"
        },
        "id": "SWLVdyPEPmqk",
        "outputId": "b5037c29-706d-45b2-91fe-7c93ff35145d"
      },
      "execution_count": 101,
      "outputs": [
        {
          "output_type": "execute_result",
          "data": {
            "text/plain": [
              "array([0, 2, 3, 1, 0, 0])"
            ]
          },
          "metadata": {},
          "execution_count": 101
        }
      ]
    }
  ]
}