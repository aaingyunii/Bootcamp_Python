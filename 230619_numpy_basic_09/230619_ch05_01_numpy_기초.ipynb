{
  "nbformat": 4,
  "nbformat_minor": 0,
  "metadata": {
    "colab": {
      "provenance": [],
      "include_colab_link": true
    },
    "kernelspec": {
      "name": "python3",
      "display_name": "Python 3"
    },
    "language_info": {
      "name": "python"
    }
  },
  "cells": [
    {
      "cell_type": "markdown",
      "metadata": {
        "id": "view-in-github",
        "colab_type": "text"
      },
      "source": [
        "<a href=\"https://colab.research.google.com/github/aaingyunii/230619_numpy_basic/blob/main/230619_ch05_01_numpy_%EA%B8%B0%EC%B4%88.ipynb\" target=\"_parent\"><img src=\"https://colab.research.google.com/assets/colab-badge.svg\" alt=\"Open In Colab\"/></a>"
      ]
    },
    {
      "cell_type": "markdown",
      "source": [
        "\n",
        "# Numpy 기초"
      ],
      "metadata": {
        "id": "3vzkJFqn7psT"
      }
    },
    {
      "cell_type": "markdown",
      "source": [
        "## 배열(Array)\n",
        "* 많은 데이터를 하나의 변수에 넣는 법? : **리스트**\n",
        "* 하지만 리스트는...\n",
        "    * 속도가 느리다\n",
        "    * 메모리를 많이 차지한다\n",
        "\n",
        "> 그래서? **배열(Array)**을 사용한다\n",
        "\n",
        "* 적은 메모리로 많은 데이터를 빠르게 처리할 수 있음"
      ],
      "metadata": {
        "id": "03onuyb58F9z"
      }
    },
    {
      "cell_type": "markdown",
      "source": [
        "https://chat.openai.com/?model=text-davinci-002-render-sha\n",
        "\n",
        "파이썬에서 배열을 사용하는 이유"
      ],
      "metadata": {
        "id": "u8i0x_7DluOs"
      }
    },
    {
      "cell_type": "markdown",
      "source": [
        "## 특징\n",
        "1. 모든 원소가 같은 **자료형**이어야 함\n",
        "2. 원소의 갯수를 바꿀 수 없음\n",
        "\n",
        "> 그런데 파이썬은 자체적으로 배열 자료형을 제공하지 않음<br>\n",
        "> 그래서 우리는 **넘파이(Numpy)** 패키지를 import해서 사용"
      ],
      "metadata": {
        "id": "TZeeC4KLFqOe"
      }
    },
    {
      "cell_type": "code",
      "execution_count": null,
      "metadata": {
        "id": "Rzperc7l7h0f"
      },
      "outputs": [],
      "source": [
        "# 파이썬 pip -> 외부 패키지 관리자 (툴, 기능들 -> 패키지 -> 불러오기)\n",
        "# 파이썬은 numpy가 내장이 아니기 때문에 -> pip install numpy\n",
        "# But, anaconda 사용 -> numpy가 기본 설치됨\n",
        "# Also, colab 사용 -> colab에는 numpy가 기본 내장되어있음.\n",
        "import numpy # 이미 설치된 numpy 패키지 불러오기\n",
        "# numpy 처럼 자주 사용되는 패키지는 'as' 를 이용해 축약어로 사용가능\n",
        "# numpy는 다른 축약어 말고 'np'로 설정해서 사용. 너무 많은 사람들이 np로 사용하기 떄문에\n",
        "import numpy as np\n",
        "\n",
        "# https://www.kaggle.com/\n",
        "# https://dacon.io/\n",
        "# https://datascienceschool.net/intro.html\n",
        "# https://www.youtube.com/c/todaycode"
      ]
    },
    {
      "cell_type": "markdown",
      "source": [
        "## 1차원 배열\n",
        "* 리스트나 튜플처럼 한 줄로 이루어진 형태의 배열"
      ],
      "metadata": {
        "id": "_HHBBVwc9IZS"
      }
    },
    {
      "cell_type": "code",
      "source": [
        "np.array([1,2,3])  # 마지막에 실행된 실행문의 결과를 아래 블록에 표시 (변수명, 값, 함수들..)"
      ],
      "metadata": {
        "colab": {
          "base_uri": "https://localhost:8080/"
        },
        "id": "HLr3CcZ-9dXj",
        "outputId": "cd006358-a791-408d-ada7-b8dc6674fe59"
      },
      "execution_count": null,
      "outputs": [
        {
          "output_type": "execute_result",
          "data": {
            "text/plain": [
              "array([1, 2, 3])"
            ]
          },
          "metadata": {},
          "execution_count": 127
        }
      ]
    },
    {
      "cell_type": "code",
      "source": [
        "arr = np.array(range(10))\n",
        "arr, type(arr)"
      ],
      "metadata": {
        "colab": {
          "base_uri": "https://localhost:8080/"
        },
        "id": "a1Gxzmom9oP8",
        "outputId": "41538b0e-d3b5-422d-953c-f3d990702386"
      },
      "execution_count": null,
      "outputs": [
        {
          "output_type": "execute_result",
          "data": {
            "text/plain": [
              "(array([0, 1, 2, 3, 4, 5, 6, 7, 8, 9]), numpy.ndarray)"
            ]
          },
          "metadata": {},
          "execution_count": 128
        }
      ]
    },
    {
      "cell_type": "markdown",
      "source": [
        "## ndarray\n",
        "* 배열 객체 타입(자료형)\n",
        "* 리스트와 동일해 보이지만 차이가 많음\n",
        "\n",
        "|자료형|특징|\n",
        "|:-|:-|\n",
        "|리스트(list)|각각의 원소가 다른 자료형이 될 수 있음|\n",
        "|배열(array)|연속적인 메모리 배치를 가지기 때문에 모든 원소가 같은 자료형이어야 함<br>원소에 대한 접근과 반복문 실행이 빨라짐|"
      ],
      "metadata": {
        "id": "RbEkqhfu9xc_"
      }
    },
    {
      "cell_type": "code",
      "source": [
        "import random\n",
        "\n",
        "def average_python(n): # n개의 길이\n",
        "\n",
        "    '''\n",
        "    n개의 랜덤한 0~1 사이의 실수를 평균해주는 함수\n",
        "    '''\n",
        "\n",
        "    s = 0  # 총 합계\n",
        "    for i in range(n):\n",
        "        s += random.random()  # 총합\n",
        "    return s / n  # 총합 / 갯수 => 산술 평균"
      ],
      "metadata": {
        "id": "Vm0w-m5Z-coU"
      },
      "execution_count": null,
      "outputs": []
    },
    {
      "cell_type": "code",
      "source": [
        "%time average_python(100_000) # %time : 시간 재기 -> 1번 실행"
      ],
      "metadata": {
        "colab": {
          "base_uri": "https://localhost:8080/"
        },
        "id": "Bvc-p4F-_sNW",
        "outputId": "ac98fafd-c8bc-4f4c-f42e-6909134de4a4"
      },
      "execution_count": null,
      "outputs": [
        {
          "output_type": "stream",
          "name": "stdout",
          "text": [
            "CPU times: user 18.2 ms, sys: 32 µs, total: 18.2 ms\n",
            "Wall time: 21 ms\n"
          ]
        },
        {
          "output_type": "execute_result",
          "data": {
            "text/plain": [
              "0.4997984510431947"
            ]
          },
          "metadata": {},
          "execution_count": 130
        }
      ]
    },
    {
      "cell_type": "code",
      "source": [
        "%timeit average_python(100_000)  # %timeit : 시간 재기 (여러 번 실행)\n",
        "# ms : 1000분의 초"
      ],
      "metadata": {
        "colab": {
          "base_uri": "https://localhost:8080/"
        },
        "id": "QOz2rCJ_C0-U",
        "outputId": "c707e18a-d61a-48c7-c85e-ea07cff09514"
      },
      "execution_count": null,
      "outputs": [
        {
          "output_type": "stream",
          "name": "stdout",
          "text": [
            "10.5 ms ± 120 µs per loop (mean ± std. dev. of 7 runs, 100 loops each)\n"
          ]
        }
      ]
    },
    {
      "cell_type": "code",
      "source": [
        "def average_numpy(n) :\n",
        "  'n개의 랜덤한 0~1 사이의 실수를 numpy를 사용해서 평균내는 함수'\n",
        "  s = np.random.random(n)  # n개의 랜덤한 실수를 불러오는 numpy의 기능\n",
        "  return s.mean()  # mean -> 평균 (mean, average)\n",
        "# shift + enter : 현재 칸을 실행하고 다음 칸으로 넘어가기"
      ],
      "metadata": {
        "id": "_rfwW6Ge_tKu"
      },
      "execution_count": null,
      "outputs": []
    },
    {
      "cell_type": "code",
      "source": [
        "%time average_numpy(100_000)  # 속도가1/10"
      ],
      "metadata": {
        "colab": {
          "base_uri": "https://localhost:8080/"
        },
        "id": "we169OAyBEXx",
        "outputId": "7a5ba89b-f341-44c8-b052-5b16f41e3cee"
      },
      "execution_count": null,
      "outputs": [
        {
          "output_type": "stream",
          "name": "stdout",
          "text": [
            "CPU times: user 1.47 ms, sys: 973 µs, total: 2.44 ms\n",
            "Wall time: 4.89 ms\n"
          ]
        },
        {
          "output_type": "execute_result",
          "data": {
            "text/plain": [
              "0.49971781268544974"
            ]
          },
          "metadata": {},
          "execution_count": 133
        }
      ]
    },
    {
      "cell_type": "code",
      "source": [
        "%timeit average_numpy(100_000)\n",
        "# 10^3 -> 10^7 us."
      ],
      "metadata": {
        "colab": {
          "base_uri": "https://localhost:8080/"
        },
        "id": "L8ugxO3OC5u6",
        "outputId": "6e7f0e13-53c6-4e82-d6aa-43dd788fff87"
      },
      "execution_count": null,
      "outputs": [
        {
          "output_type": "stream",
          "name": "stdout",
          "text": [
            "1 ms ± 246 µs per loop (mean ± std. dev. of 7 runs, 1000 loops each)\n"
          ]
        }
      ]
    },
    {
      "cell_type": "code",
      "source": [
        "# alt + enter : 새로운 코드 블록 (윗 블록 실행)\n",
        "# python 3.11 <- 리스트의 속도가 상당히 빨라졌음...\n",
        "# list comprehension > numpy > list, for."
      ],
      "metadata": {
        "id": "bxmHoC8VQafi"
      },
      "execution_count": null,
      "outputs": []
    },
    {
      "cell_type": "markdown",
      "source": [
        "## 벡터화 연산\n",
        "* 배열 객체는 **배열의 각 원소에 대한 반복 연산을 하나의 명령어로 처리**하는 벡터화 연산(vectorized operation)을 지원"
      ],
      "metadata": {
        "id": "YpE_nZs6DNUs"
      }
    },
    {
      "cell_type": "code",
      "source": [
        "data = list(range(10))\n",
        "data"
      ],
      "metadata": {
        "colab": {
          "base_uri": "https://localhost:8080/"
        },
        "id": "4nAs9lrhDgsY",
        "outputId": "f00f874d-9044-43a0-c2d1-585923b77e4d"
      },
      "execution_count": null,
      "outputs": [
        {
          "output_type": "execute_result",
          "data": {
            "text/plain": [
              "[0, 1, 2, 3, 4, 5, 6, 7, 8, 9]"
            ]
          },
          "metadata": {},
          "execution_count": 136
        }
      ]
    },
    {
      "cell_type": "code",
      "source": [
        "# alt + enter\n",
        "# 리스트 객체에 정수 곱하면?\n",
        "data * 2  # 모든 원소에 2배가 됩니까?\n",
        "# 리스트 객체에 정수를 곱하면 객체의 크기가 해당 정수 배만큼 증가 (n >= 1 클 때)"
      ],
      "metadata": {
        "colab": {
          "base_uri": "https://localhost:8080/"
        },
        "id": "7bSov_2FRfPd",
        "outputId": "aaebdad4-3bb2-4692-a5ff-56a0502dfa4c"
      },
      "execution_count": null,
      "outputs": [
        {
          "output_type": "execute_result",
          "data": {
            "text/plain": [
              "[0, 1, 2, 3, 4, 5, 6, 7, 8, 9, 0, 1, 2, 3, 4, 5, 6, 7, 8, 9]"
            ]
          },
          "metadata": {},
          "execution_count": 137
        }
      ]
    },
    {
      "cell_type": "code",
      "source": [
        "# 여러 개의 데이터를 모두 2배 할 때 (파이썬)\n",
        "%time\n",
        "# %%time 전체 블록을 실행\n",
        "# 여러 개의 데이터를 모두 2배 할 때 (파이썬)\n",
        "answer = []\n",
        "for i in data :\n",
        "  answer.append(i*2)\n",
        "answer"
      ],
      "metadata": {
        "colab": {
          "base_uri": "https://localhost:8080/"
        },
        "id": "YMMhJLA9Dnjt",
        "outputId": "ea3c51f0-590d-4441-bfee-10c632ead6ad"
      },
      "execution_count": null,
      "outputs": [
        {
          "output_type": "stream",
          "name": "stdout",
          "text": [
            "CPU times: user 4 µs, sys: 0 ns, total: 4 µs\n",
            "Wall time: 8.34 µs\n"
          ]
        },
        {
          "output_type": "execute_result",
          "data": {
            "text/plain": [
              "[0, 2, 4, 6, 8, 10, 12, 14, 16, 18]"
            ]
          },
          "metadata": {},
          "execution_count": 138
        }
      ]
    },
    {
      "cell_type": "code",
      "source": [
        "%timeit\n",
        "answer = []\n",
        "for i in data :\n",
        "  answer.append(i*2)\n",
        "answer"
      ],
      "metadata": {
        "colab": {
          "base_uri": "https://localhost:8080/"
        },
        "id": "5tij5InvR1KL",
        "outputId": "16b690f5-e45f-4979-a8be-e778a57754fd"
      },
      "execution_count": null,
      "outputs": [
        {
          "output_type": "execute_result",
          "data": {
            "text/plain": [
              "[0, 2, 4, 6, 8, 10, 12, 14, 16, 18]"
            ]
          },
          "metadata": {},
          "execution_count": 139
        }
      ]
    },
    {
      "cell_type": "code",
      "source": [
        "%time\n",
        "# 리스트 컴프리헨션\n",
        "[i*2 for i in data]"
      ],
      "metadata": {
        "colab": {
          "base_uri": "https://localhost:8080/"
        },
        "id": "SHzLz6ghEKIY",
        "outputId": "9602734b-2631-470a-929d-723ca8c37a2e"
      },
      "execution_count": null,
      "outputs": [
        {
          "output_type": "stream",
          "name": "stdout",
          "text": [
            "CPU times: user 4 µs, sys: 0 ns, total: 4 µs\n",
            "Wall time: 7.63 µs\n"
          ]
        },
        {
          "output_type": "execute_result",
          "data": {
            "text/plain": [
              "[0, 2, 4, 6, 8, 10, 12, 14, 16, 18]"
            ]
          },
          "metadata": {},
          "execution_count": 140
        }
      ]
    },
    {
      "cell_type": "code",
      "source": [
        "%timeit\n",
        "# 리스트 컴프리헨션\n",
        "[i*2 for i in data]"
      ],
      "metadata": {
        "colab": {
          "base_uri": "https://localhost:8080/"
        },
        "id": "DcmuM-DRSaMM",
        "outputId": "03d56a60-8474-4a95-ec01-018e18825bcd"
      },
      "execution_count": null,
      "outputs": [
        {
          "output_type": "execute_result",
          "data": {
            "text/plain": [
              "[0, 2, 4, 6, 8, 10, 12, 14, 16, 18]"
            ]
          },
          "metadata": {},
          "execution_count": 141
        }
      ]
    },
    {
      "cell_type": "code",
      "source": [
        "# 벡터화 연산\n",
        "arr = np.array(data)  # 시퀀스 형태의 데이터를 np.array -> numpy 배열\n",
        "arr"
      ],
      "metadata": {
        "colab": {
          "base_uri": "https://localhost:8080/"
        },
        "id": "8uD4qG7yEUlU",
        "outputId": "8bba77f0-ea53-429d-f5b1-34fbbbf5b358"
      },
      "execution_count": null,
      "outputs": [
        {
          "output_type": "execute_result",
          "data": {
            "text/plain": [
              "array([0, 1, 2, 3, 4, 5, 6, 7, 8, 9])"
            ]
          },
          "metadata": {},
          "execution_count": 142
        }
      ]
    },
    {
      "cell_type": "code",
      "source": [
        "%time arr*2 # 배열"
      ],
      "metadata": {
        "colab": {
          "base_uri": "https://localhost:8080/"
        },
        "id": "Di07DfgYEaUp",
        "outputId": "84392e95-67dd-4dec-d061-4ba966e97edf"
      },
      "execution_count": null,
      "outputs": [
        {
          "output_type": "stream",
          "name": "stdout",
          "text": [
            "CPU times: user 70 µs, sys: 0 ns, total: 70 µs\n",
            "Wall time: 83.7 µs\n"
          ]
        },
        {
          "output_type": "execute_result",
          "data": {
            "text/plain": [
              "array([ 0,  2,  4,  6,  8, 10, 12, 14, 16, 18])"
            ]
          },
          "metadata": {},
          "execution_count": 143
        }
      ]
    },
    {
      "cell_type": "code",
      "source": [
        "%timeit arr*2"
      ],
      "metadata": {
        "colab": {
          "base_uri": "https://localhost:8080/"
        },
        "id": "ZjOSgVDTSxbo",
        "outputId": "529e3a5c-7895-4d94-ec31-8cb0c5f1fcbb"
      },
      "execution_count": null,
      "outputs": [
        {
          "output_type": "stream",
          "name": "stdout",
          "text": [
            "1.35 µs ± 363 ns per loop (mean ± std. dev. of 7 runs, 1000000 loops each)\n"
          ]
        }
      ]
    },
    {
      "cell_type": "code",
      "source": [
        "# 3.9 버전까지는 웬만하면 numpy 압살 -> 3.10 (리스트 속도 개선을 위한 작업) -> 속도는 비슷"
      ],
      "metadata": {
        "id": "-XwDa45FS7Er"
      },
      "execution_count": null,
      "outputs": []
    },
    {
      "cell_type": "code",
      "source": [
        "# 리스트 객체에 정수를 곱하면 객체의 크기가 해당 정수 배만큼 증가\n",
        "data *3 # repeat\n"
      ],
      "metadata": {
        "colab": {
          "base_uri": "https://localhost:8080/"
        },
        "id": "o7TyxzkHEePJ",
        "outputId": "03e24e24-ba1f-49a9-dc3a-910b006c83dd"
      },
      "execution_count": null,
      "outputs": [
        {
          "output_type": "execute_result",
          "data": {
            "text/plain": [
              "[0,\n",
              " 1,\n",
              " 2,\n",
              " 3,\n",
              " 4,\n",
              " 5,\n",
              " 6,\n",
              " 7,\n",
              " 8,\n",
              " 9,\n",
              " 0,\n",
              " 1,\n",
              " 2,\n",
              " 3,\n",
              " 4,\n",
              " 5,\n",
              " 6,\n",
              " 7,\n",
              " 8,\n",
              " 9,\n",
              " 0,\n",
              " 1,\n",
              " 2,\n",
              " 3,\n",
              " 4,\n",
              " 5,\n",
              " 6,\n",
              " 7,\n",
              " 8,\n",
              " 9]"
            ]
          },
          "metadata": {},
          "execution_count": 146
        }
      ]
    },
    {
      "cell_type": "markdown",
      "source": [
        "* 벡터화 연산은 비교 연산과 논리 연산을 포함한 모든 종류의 수학 연산에 대해 적용"
      ],
      "metadata": {
        "id": "zQ1rWyKGExLh"
      }
    },
    {
      "cell_type": "code",
      "source": [
        "a = np.array(range(1,4))\n",
        "b = np.array(range(10,40,10))\n",
        "print(\"a :\",a,\" b :\",b)"
      ],
      "metadata": {
        "colab": {
          "base_uri": "https://localhost:8080/"
        },
        "id": "Ln3pwEyLFA1n",
        "outputId": "bcd4ccbf-76fc-4abb-c3a7-2bc12dc17903"
      },
      "execution_count": null,
      "outputs": [
        {
          "output_type": "stream",
          "name": "stdout",
          "text": [
            "a : [1 2 3]  b : [10 20 30]\n"
          ]
        }
      ]
    },
    {
      "cell_type": "code",
      "source": [
        "a * 10\n",
        "b = a * 10 # 이런식으로 array는 b를 생성할 수 있다.\n",
        "b"
      ],
      "metadata": {
        "colab": {
          "base_uri": "https://localhost:8080/"
        },
        "id": "s3XZtL08UCdf",
        "outputId": "25caf8bf-e80f-4add-ec47-ac310cd5946a"
      },
      "execution_count": null,
      "outputs": [
        {
          "output_type": "execute_result",
          "data": {
            "text/plain": [
              "array([10, 20, 30])"
            ]
          },
          "metadata": {},
          "execution_count": 148
        }
      ]
    },
    {
      "cell_type": "code",
      "source": [
        "a*2+b # 벡터화 연산을 통한 산술연산"
      ],
      "metadata": {
        "colab": {
          "base_uri": "https://localhost:8080/"
        },
        "id": "zGfFqMi6FFZr",
        "outputId": "848632d5-288d-4d15-e5fe-f0fc25127dfc"
      },
      "execution_count": null,
      "outputs": [
        {
          "output_type": "execute_result",
          "data": {
            "text/plain": [
              "array([12, 24, 36])"
            ]
          },
          "metadata": {},
          "execution_count": 149
        }
      ]
    },
    {
      "cell_type": "code",
      "source": [
        "a ** 2 , b **0.5"
      ],
      "metadata": {
        "colab": {
          "base_uri": "https://localhost:8080/"
        },
        "id": "bOoSu_8qUU9X",
        "outputId": "ae2842d2-f0cc-4bb6-c9ff-c62af8bab0de"
      },
      "execution_count": null,
      "outputs": [
        {
          "output_type": "execute_result",
          "data": {
            "text/plain": [
              "(array([1, 4, 9]), array([3.16227766, 4.47213595, 5.47722558]))"
            ]
          },
          "metadata": {},
          "execution_count": 150
        }
      ]
    },
    {
      "cell_type": "code",
      "source": [
        "a == 2, b >10, b<10  # 벡터화 연산을 각각의 요소를 해서 False, True, False 값이 반환되었다.\n",
        "# 비교 연산"
      ],
      "metadata": {
        "colab": {
          "base_uri": "https://localhost:8080/"
        },
        "id": "Sk7v0Zc2FNVn",
        "outputId": "4c3ae2fc-499b-458b-a366-60aab7dfb904"
      },
      "execution_count": null,
      "outputs": [
        {
          "output_type": "execute_result",
          "data": {
            "text/plain": [
              "(array([False,  True, False]),\n",
              " array([False,  True,  True]),\n",
              " array([False, False, False]))"
            ]
          },
          "metadata": {},
          "execution_count": 151
        }
      ]
    },
    {
      "cell_type": "code",
      "source": [
        "# & 연산자\n",
        "'''\n",
        "(array([False,  True, False]),  -> a == 2\n",
        " array([False,  True,  True]),  -> b > 10\n",
        " '''\n",
        "(a == 2) & (b>10) , (a == 2) | (b>10)\n",
        "# 논리 연산"
      ],
      "metadata": {
        "colab": {
          "base_uri": "https://localhost:8080/"
        },
        "id": "TKIf8dFnFSdh",
        "outputId": "0d5c3cf8-c6ed-4fed-ec38-94f762b43832"
      },
      "execution_count": null,
      "outputs": [
        {
          "output_type": "execute_result",
          "data": {
            "text/plain": [
              "(array([False,  True, False]), array([False,  True,  True]))"
            ]
          },
          "metadata": {},
          "execution_count": 152
        }
      ]
    },
    {
      "cell_type": "markdown",
      "source": [
        "## 2차원 배열\n",
        "* `ndarray`는 N-dimensional Array의 약자, 즉 1차원 배열 이외에도 2차원 배열, 3차원 배열 등의 다차원 배열 자료 구조를 지원\n",
        "* 2차원 배열 = 행렬 (matrix)\n",
        "* 가로줄 : 행(row), 세로줄 : 열(column)\n",
        "> 엑셀 스프레드시트와 같은 형태의 배열\n",
        "\n",
        "* 리스트의 리스트(list of list)를 이용하여 2차원 배열 생성\n",
        "    * 안쪽 리스트의 길이 : 행렬의 열의 수 (가로 크기)\n",
        "    * 바깥쪽 리스트의 길이 : 행렬의 행의 수 (세로 크기)"
      ],
      "metadata": {
        "id": "6E8zYWggFjXD"
      }
    },
    {
      "cell_type": "code",
      "source": [
        "arr = np.array([[0,1,2],[3,4,5]])\n",
        "arr # 행이 2개, 열이 3개"
      ],
      "metadata": {
        "colab": {
          "base_uri": "https://localhost:8080/"
        },
        "id": "mvYB4aigFaBi",
        "outputId": "98f18176-bfd4-45d3-b31e-e8184481a84a"
      },
      "execution_count": null,
      "outputs": [
        {
          "output_type": "execute_result",
          "data": {
            "text/plain": [
              "array([[0, 1, 2],\n",
              "       [3, 4, 5]])"
            ]
          },
          "metadata": {},
          "execution_count": 153
        }
      ]
    },
    {
      "cell_type": "code",
      "source": [
        "# 행의 갯수, 열의 갯수\n",
        "len(arr),len(arr[0]), len(arr[1]) # 행의 개수 , 열의 개수, 열의 개수"
      ],
      "metadata": {
        "colab": {
          "base_uri": "https://localhost:8080/"
        },
        "id": "hJKXy_1vHTID",
        "outputId": "8d9ca6f6-e3a8-4d3f-d573-778d3dbc2bb6"
      },
      "execution_count": null,
      "outputs": [
        {
          "output_type": "execute_result",
          "data": {
            "text/plain": [
              "(2, 3, 3)"
            ]
          },
          "metadata": {},
          "execution_count": 154
        }
      ]
    },
    {
      "cell_type": "markdown",
      "source": [
        "https://shareg.pt/Veo0aTL"
      ],
      "metadata": {
        "id": "FCg6enr0lhnW"
      }
    },
    {
      "cell_type": "markdown",
      "source": [
        "## 💡 연습문제 1\n",
        "> 아래 모양의 행렬 만들어 보기\n",
        "```\n",
        "10 20 30 40\n",
        "50 60 70 80\n",
        "```"
      ],
      "metadata": {
        "id": "mvQeMqWwIxGe"
      }
    },
    {
      "cell_type": "code",
      "source": [
        "arr = np.array([[10,20,30,40],[50,60,70,80]])\n",
        "arr"
      ],
      "metadata": {
        "colab": {
          "base_uri": "https://localhost:8080/"
        },
        "id": "_4AEiANZI6CN",
        "outputId": "d4fb7596-acbc-4f39-e856-8631278a70cb"
      },
      "execution_count": null,
      "outputs": [
        {
          "output_type": "execute_result",
          "data": {
            "text/plain": [
              "array([[10, 20, 30, 40],\n",
              "       [50, 60, 70, 80]])"
            ]
          },
          "metadata": {},
          "execution_count": 155
        }
      ]
    },
    {
      "cell_type": "code",
      "source": [
        "# 리스트 컴프리헨션을 이용해 행렬 만들어보기\n",
        "ex_arr = np.array([[i for i in range(10,50,10)],[i for i in range(50,90,10)]])\n",
        "print(\"ex_arr :\",ex_arr)\n",
        "\n",
        "print(\"행의 개수 :\",len(ex_arr), \" 열의 개수 :\",len(ex_arr[0]))"
      ],
      "metadata": {
        "colab": {
          "base_uri": "https://localhost:8080/"
        },
        "id": "Z9gBzghTa2LS",
        "outputId": "b129981e-2cf3-4454-819a-c323bec77205"
      },
      "execution_count": null,
      "outputs": [
        {
          "output_type": "stream",
          "name": "stdout",
          "text": [
            "ex_arr : [[10 20 30 40]\n",
            " [50 60 70 80]]\n",
            "행의 개수 : 2  열의 개수 : 4\n"
          ]
        }
      ]
    },
    {
      "cell_type": "code",
      "source": [
        "# 리스트 컴프리헨션, 심화 표현\n",
        "np.array([[(a * 4 + (b + 1))*10 for b in range(4)] for a in range(2)])\n"
      ],
      "metadata": {
        "colab": {
          "base_uri": "https://localhost:8080/"
        },
        "id": "3KDk77KCJFvH",
        "outputId": "787f4c88-dda3-4c78-b31b-99f068bfe5f5"
      },
      "execution_count": null,
      "outputs": [
        {
          "output_type": "execute_result",
          "data": {
            "text/plain": [
              "array([[10, 20, 30, 40],\n",
              "       [50, 60, 70, 80]])"
            ]
          },
          "metadata": {},
          "execution_count": 157
        }
      ]
    },
    {
      "cell_type": "markdown",
      "source": [
        "## 3차원 배열"
      ],
      "metadata": {
        "id": "OrnOIxEVHiJo"
      }
    },
    {
      "cell_type": "code",
      "source": [
        "# 크기를 나타낼 때는 가장 바깥쪽 리스트의 길이부터 가장 안쪽 리스트 길이의 순서로 표시\n",
        "# m : martix, (2차원 배열, 행렬)\n",
        "# t : three-dimension\n",
        "t = np.array(\n",
        "    [\n",
        "        [\n",
        "            [1,2,3,4],\n",
        "            [5,6,7,8],\n",
        "            [9,10,11,12]\n",
        "            # alt + shift + 방향키, 행 그대로 복사\n",
        "        ],\n",
        "        [\n",
        "            [13,14,15,16],\n",
        "            [17,18,19,20],\n",
        "            [21,22,23,24] # 4개\n",
        "        ] # 3개\n",
        "    ] # 가장 밖 리스트 - > 요소 2개\n",
        ")\n",
        "t"
      ],
      "metadata": {
        "colab": {
          "base_uri": "https://localhost:8080/"
        },
        "id": "wE7xDF6NJXYQ",
        "outputId": "c147f7be-09a3-448f-91ad-2866a73fbe5b"
      },
      "execution_count": null,
      "outputs": [
        {
          "output_type": "execute_result",
          "data": {
            "text/plain": [
              "array([[[ 1,  2,  3,  4],\n",
              "        [ 5,  6,  7,  8],\n",
              "        [ 9, 10, 11, 12]],\n",
              "\n",
              "       [[13, 14, 15, 16],\n",
              "        [17, 18, 19, 20],\n",
              "        [21, 22, 23, 24]]])"
            ]
          },
          "metadata": {},
          "execution_count": 158
        }
      ]
    },
    {
      "cell_type": "code",
      "source": [
        "# 깊이, 행, 열\n",
        "len(t),len(t[0]), len(t[0][0])"
      ],
      "metadata": {
        "colab": {
          "base_uri": "https://localhost:8080/"
        },
        "id": "vBdM_eKFJ9R-",
        "outputId": "a4856a74-f931-4216-d010-d98e5d9af24e"
      },
      "execution_count": null,
      "outputs": [
        {
          "output_type": "execute_result",
          "data": {
            "text/plain": [
              "(2, 3, 4)"
            ]
          },
          "metadata": {},
          "execution_count": 159
        }
      ]
    },
    {
      "cell_type": "markdown",
      "source": [
        "## 배열의 차원과 크기 알아내기\n",
        "* `ndim`, `shape` **속성** 사용\n",
        "> 속성 : 괄호 없이 이름만 써서 값을 호출\n",
        "\n",
        "* `ndim` : 배열의 차원\n",
        "* `shape` : 배열의 크기"
      ],
      "metadata": {
        "id": "opiM0LNJKNTh"
      }
    },
    {
      "cell_type": "markdown",
      "source": [
        "https://sharegpt.com/c/KzM7tLs"
      ],
      "metadata": {
        "id": "kA9KARTqlosI"
      }
    },
    {
      "cell_type": "code",
      "source": [
        "a = np.array(range(1, 4))\n",
        "a"
      ],
      "metadata": {
        "colab": {
          "base_uri": "https://localhost:8080/"
        },
        "id": "o3Aok_LtKmk1",
        "outputId": "933402f5-3c1c-4db6-e183-57ea083f87e7"
      },
      "execution_count": null,
      "outputs": [
        {
          "output_type": "execute_result",
          "data": {
            "text/plain": [
              "array([1, 2, 3])"
            ]
          },
          "metadata": {},
          "execution_count": 160
        }
      ]
    },
    {
      "cell_type": "code",
      "source": [
        "a.ndim, a.shape"
      ],
      "metadata": {
        "colab": {
          "base_uri": "https://localhost:8080/"
        },
        "id": "9DMGQgWZKuwT",
        "outputId": "8cfd9f6e-6c24-4609-b720-a09033728b6e"
      },
      "execution_count": null,
      "outputs": [
        {
          "output_type": "execute_result",
          "data": {
            "text/plain": [
              "(1, (3,))"
            ]
          },
          "metadata": {},
          "execution_count": 161
        }
      ]
    },
    {
      "cell_type": "code",
      "source": [
        "m = np.array((range(3), range(3, 6)))  # 3개 3개.\n",
        "m"
      ],
      "metadata": {
        "colab": {
          "base_uri": "https://localhost:8080/"
        },
        "id": "dzEvMcPghVcY",
        "outputId": "851476af-a26f-44e5-a404-85306d5f5e0b"
      },
      "execution_count": null,
      "outputs": [
        {
          "output_type": "execute_result",
          "data": {
            "text/plain": [
              "array([[0, 1, 2],\n",
              "       [3, 4, 5]])"
            ]
          },
          "metadata": {},
          "execution_count": 162
        }
      ]
    },
    {
      "cell_type": "code",
      "source": [
        "m.ndim, m.shape"
      ],
      "metadata": {
        "colab": {
          "base_uri": "https://localhost:8080/"
        },
        "id": "IOQL68yChVwU",
        "outputId": "37475dce-7440-4d04-86cf-b5eb04f71285"
      },
      "execution_count": null,
      "outputs": [
        {
          "output_type": "execute_result",
          "data": {
            "text/plain": [
              "(2, (2, 3))"
            ]
          },
          "metadata": {},
          "execution_count": 163
        }
      ]
    },
    {
      "cell_type": "code",
      "source": [
        "t.ndim,t.shape"
      ],
      "metadata": {
        "colab": {
          "base_uri": "https://localhost:8080/"
        },
        "id": "0ExnZUCHK057",
        "outputId": "c882dfcc-f0a4-44ae-9aeb-f187d9c0d61d"
      },
      "execution_count": null,
      "outputs": [
        {
          "output_type": "execute_result",
          "data": {
            "text/plain": [
              "(3, (2, 3, 4))"
            ]
          },
          "metadata": {},
          "execution_count": 164
        }
      ]
    },
    {
      "cell_type": "markdown",
      "source": [
        "## 배열의 복사\n",
        "* copy와 view의 차이점은 copy는 새 배열(깊은 복사)이고 view는 원래 배열과 연결 되어 있다는 것(얕은 복사)\n",
        "* copy는 데이터를 소유하며 copy에 대한 변경 사항은 원본 배열에 영향을 미치지 않으며 원본 배열에 대한 변경은 copy에 영향을 주지 않음\n",
        "* view는 데이터를 소유하지 않으며 view에 대한 모든 변경 사항은 원래 배열에 영향을 미치고 원래 배열에 대한 모든 변경 사항은 보기에 영향을 줌"
      ],
      "metadata": {
        "id": "cJZkK8_dQxfm"
      }
    },
    {
      "cell_type": "code",
      "source": [
        "arr = np.array(range(1,4))\n",
        "arr2 = arr  # 복사 -> 할당\n",
        "arr[0] = 40\n",
        "arr,arr2"
      ],
      "metadata": {
        "colab": {
          "base_uri": "https://localhost:8080/"
        },
        "id": "4y-KxTbuQ0xj",
        "outputId": "f53c0f58-e570-4be1-d030-839e6d4da100"
      },
      "execution_count": null,
      "outputs": [
        {
          "output_type": "execute_result",
          "data": {
            "text/plain": [
              "(array([40,  2,  3]), array([40,  2,  3]))"
            ]
          },
          "metadata": {},
          "execution_count": 165
        }
      ]
    },
    {
      "cell_type": "code",
      "source": [
        "arr = np.array(range(1,6))\n",
        "arr2 = arr.view() # 읽기전용 사본, 일부러 원본과 연결된 사본을 만들어내는 것.\n",
        "arr[0] = 40\n",
        "arr, arr2"
      ],
      "metadata": {
        "colab": {
          "base_uri": "https://localhost:8080/"
        },
        "id": "TIAvNSlnQ2hY",
        "outputId": "c34e9d25-d8ab-447b-ba96-d468d735a4b9"
      },
      "execution_count": null,
      "outputs": [
        {
          "output_type": "execute_result",
          "data": {
            "text/plain": [
              "(array([40,  2,  3,  4,  5]), array([40,  2,  3,  4,  5]))"
            ]
          },
          "metadata": {},
          "execution_count": 166
        }
      ]
    },
    {
      "cell_type": "code",
      "source": [
        "arr = np.array(range(1,6))\n",
        "arr2 = arr.copy()  # 얕은 복사\n",
        "arr[0] = 40\n",
        "arr,arr2"
      ],
      "metadata": {
        "colab": {
          "base_uri": "https://localhost:8080/"
        },
        "id": "9swwITkeQ7I8",
        "outputId": "7311d119-68ae-47fb-f2a3-e4bbf8e292b8"
      },
      "execution_count": null,
      "outputs": [
        {
          "output_type": "execute_result",
          "data": {
            "text/plain": [
              "(array([40,  2,  3,  4,  5]), array([1, 2, 3, 4, 5]))"
            ]
          },
          "metadata": {},
          "execution_count": 167
        }
      ]
    },
    {
      "cell_type": "code",
      "source": [
        "arr3 = np.array([arr,arr])\n",
        "arr4 = arr3.copy()\n",
        "arr3,arr4"
      ],
      "metadata": {
        "colab": {
          "base_uri": "https://localhost:8080/"
        },
        "id": "4Bh4kXPyiaMT",
        "outputId": "deef5996-8a5b-453e-f3f5-eeaa0f0537cc"
      },
      "execution_count": null,
      "outputs": [
        {
          "output_type": "execute_result",
          "data": {
            "text/plain": [
              "(array([[40,  2,  3,  4,  5],\n",
              "        [40,  2,  3,  4,  5]]),\n",
              " array([[40,  2,  3,  4,  5],\n",
              "        [40,  2,  3,  4,  5]]))"
            ]
          },
          "metadata": {},
          "execution_count": 168
        }
      ]
    },
    {
      "cell_type": "code",
      "source": [
        "arr[0]=60\n",
        "arr4[0]=10000\n",
        "arr3,arr4"
      ],
      "metadata": {
        "colab": {
          "base_uri": "https://localhost:8080/"
        },
        "id": "hvJkdyL8ilgr",
        "outputId": "9d34b92c-6e3d-4c0c-d034-37faca716f7d"
      },
      "execution_count": null,
      "outputs": [
        {
          "output_type": "execute_result",
          "data": {
            "text/plain": [
              "(array([[40,  2,  3,  4,  5],\n",
              "        [40,  2,  3,  4,  5]]),\n",
              " array([[10000, 10000, 10000, 10000, 10000],\n",
              "        [   40,     2,     3,     4,     5]]))"
            ]
          },
          "metadata": {},
          "execution_count": 169
        }
      ]
    },
    {
      "cell_type": "markdown",
      "source": [
        "## 배열의 인덱싱"
      ],
      "metadata": {
        "id": "XRqTwPdrOLj2"
      }
    },
    {
      "cell_type": "markdown",
      "source": [
        "### 일차원 배열\n",
        "* 리스트의 인덱싱과 같음"
      ],
      "metadata": {
        "id": "Wws5jAiwPLY6"
      }
    },
    {
      "cell_type": "code",
      "source": [
        "a = np.array(range(5))\n",
        "print(a)  # 1차원 배열\n",
        "a[0],a[2],a[-1],a[len(a)-1]"
      ],
      "metadata": {
        "colab": {
          "base_uri": "https://localhost:8080/"
        },
        "id": "xvVO2hmBOOwr",
        "outputId": "fd76c893-9cc4-491d-f033-57fb79b3613f"
      },
      "execution_count": null,
      "outputs": [
        {
          "output_type": "stream",
          "name": "stdout",
          "text": [
            "[0 1 2 3 4]\n"
          ]
        },
        {
          "output_type": "execute_result",
          "data": {
            "text/plain": [
              "(0, 2, 4, 4)"
            ]
          },
          "metadata": {},
          "execution_count": 178
        }
      ]
    },
    {
      "cell_type": "markdown",
      "source": [
        "### 다차원 배열\n",
        "* 콤마(comma, `,`)를 사용하여 접근\n",
        "* 콤마로 구분된 차원을 축(axis)라고 함\n",
        "    * like 그래프의 x축, y축"
      ],
      "metadata": {
        "id": "2fOOjLQoOn5h"
      }
    },
    {
      "cell_type": "code",
      "source": [
        "b =np.array([range(3),range(3,6)])\n",
        "b, b.ndim, b.shape"
      ],
      "metadata": {
        "colab": {
          "base_uri": "https://localhost:8080/"
        },
        "id": "FASAOAE-Okqu",
        "outputId": "dda1b6e2-76e7-41b8-db1b-be6e4582e2ae"
      },
      "execution_count": null,
      "outputs": [
        {
          "output_type": "execute_result",
          "data": {
            "text/plain": [
              "(array([[0, 1, 2],\n",
              "        [3, 4, 5]]),\n",
              " 2,\n",
              " (2, 3))"
            ]
          },
          "metadata": {},
          "execution_count": 183
        }
      ]
    },
    {
      "cell_type": "code",
      "source": [
        "# b[0][0] # 첫번쨰 행의 첫번째 열\n",
        "b[0,0] # [0][0] ->[0,0]으로 표현이 가능하다. 리스트에서는 불가능!, array(배열)에서만 가능하다.\n"
      ],
      "metadata": {
        "colab": {
          "base_uri": "https://localhost:8080/"
        },
        "id": "pOVefqrYO5LK",
        "outputId": "a9a2091e-2661-4553-f4b0-ec2c99e3df41"
      },
      "execution_count": null,
      "outputs": [
        {
          "output_type": "execute_result",
          "data": {
            "text/plain": [
              "0"
            ]
          },
          "metadata": {},
          "execution_count": 186
        }
      ]
    },
    {
      "cell_type": "code",
      "source": [
        "# 첫번째 행의 두번째 열\n",
        "b[0,1]\n",
        "# 첫번쨰 행 (0)의 두번째 열(1)"
      ],
      "metadata": {
        "colab": {
          "base_uri": "https://localhost:8080/"
        },
        "id": "oU2ZsFukO93q",
        "outputId": "c9b1c7da-a423-448a-b664-49708d9a4712"
      },
      "execution_count": null,
      "outputs": [
        {
          "output_type": "execute_result",
          "data": {
            "text/plain": [
              "1"
            ]
          },
          "metadata": {},
          "execution_count": 188
        }
      ]
    },
    {
      "cell_type": "code",
      "source": [
        "b[-1,-1]\n",
        "# 마지막 행의 마지막 열"
      ],
      "metadata": {
        "colab": {
          "base_uri": "https://localhost:8080/"
        },
        "id": "TEobJ50IPCPt",
        "outputId": "cf02863b-de2f-429c-a19c-2ae626b672dd"
      },
      "execution_count": null,
      "outputs": [
        {
          "output_type": "execute_result",
          "data": {
            "text/plain": [
              "5"
            ]
          },
          "metadata": {},
          "execution_count": 190
        }
      ]
    },
    {
      "cell_type": "markdown",
      "source": [
        "## 배열 슬라이싱\n",
        "* 다차원 배열의 원소 중 2개 이상의 복수 개를 접근하려면 일반적인 파이썬 슬라이싱(slicing)과 comma(,)를 함께 사용"
      ],
      "metadata": {
        "id": "kk2Ri7rSPVi2"
      }
    },
    {
      "cell_type": "code",
      "source": [
        " a = np.array([range(4),range(4,8)])\n",
        " a"
      ],
      "metadata": {
        "colab": {
          "base_uri": "https://localhost:8080/"
        },
        "id": "jEziuEkEPH6D",
        "outputId": "7abca438-0765-403d-e8c2-99f813b7a760"
      },
      "execution_count": null,
      "outputs": [
        {
          "output_type": "execute_result",
          "data": {
            "text/plain": [
              "array([[0, 1, 2, 3],\n",
              "       [4, 5, 6, 7]])"
            ]
          },
          "metadata": {},
          "execution_count": 223
        }
      ]
    },
    {
      "cell_type": "code",
      "source": [
        "# a[0] -> 첫 번쨰 행의 전체 열\n",
        "a[0], a[0,:]"
      ],
      "metadata": {
        "colab": {
          "base_uri": "https://localhost:8080/"
        },
        "id": "LUww2ZaXP3aW",
        "outputId": "ba2bac6c-b68e-4f9a-eb38-db5aeccf1399"
      },
      "execution_count": null,
      "outputs": [
        {
          "output_type": "execute_result",
          "data": {
            "text/plain": [
              "(array([0, 1, 2, 3]), array([0, 1, 2, 3]))"
            ]
          },
          "metadata": {},
          "execution_count": 224
        }
      ]
    },
    {
      "cell_type": "code",
      "source": [
        "# 두번째 열의 모든 행 (모든 행의 두번째 열)\n",
        "a[:,1]"
      ],
      "metadata": {
        "colab": {
          "base_uri": "https://localhost:8080/"
        },
        "id": "eV47P625P6y2",
        "outputId": "bd70d0c5-b62c-46ef-ae65-41d65984d485"
      },
      "execution_count": null,
      "outputs": [
        {
          "output_type": "execute_result",
          "data": {
            "text/plain": [
              "array([1, 5])"
            ]
          },
          "metadata": {},
          "execution_count": 195
        }
      ]
    },
    {
      "cell_type": "code",
      "source": [
        "# 두번쨰 행의 두번째 열부터 끝까지\n",
        "a[1,1:]\n",
        "# 끝 열의 인덱스 번호는 생략 가능"
      ],
      "metadata": {
        "colab": {
          "base_uri": "https://localhost:8080/"
        },
        "id": "YKbC_X9kP92W",
        "outputId": "17631cde-7570-4f1a-a7ab-f7ea1edc8e53"
      },
      "execution_count": null,
      "outputs": [
        {
          "output_type": "execute_result",
          "data": {
            "text/plain": [
              "array([5, 6, 7])"
            ]
          },
          "metadata": {},
          "execution_count": 197
        }
      ]
    },
    {
      "cell_type": "code",
      "source": [
        "# 첫번째 행에서 두번째 행까지, 첫번째 열에서 두번째 열까지\n",
        "a[0:2,0:2], a[:2,:2]\n"
      ],
      "metadata": {
        "colab": {
          "base_uri": "https://localhost:8080/"
        },
        "id": "fuNdQMf8QBGC",
        "outputId": "78fd97b2-41da-455e-ca19-de1eac747443"
      },
      "execution_count": null,
      "outputs": [
        {
          "output_type": "execute_result",
          "data": {
            "text/plain": [
              "(array([[0, 1],\n",
              "        [4, 5]]),\n",
              " array([[0, 1],\n",
              "        [4, 5]]))"
            ]
          },
          "metadata": {},
          "execution_count": 201
        }
      ]
    },
    {
      "cell_type": "markdown",
      "source": [
        "## 💡 연습문제 2"
      ],
      "metadata": {
        "id": "lDNHCVY6Qiu5"
      }
    },
    {
      "cell_type": "code",
      "source": [
        "m = np.array([[0,  1,  2,  3,  4],\n",
        "              [5,  6,  7,  8,  9],\n",
        "              [10, 11, 12, 13, 14]])\n",
        "m"
      ],
      "metadata": {
        "colab": {
          "base_uri": "https://localhost:8080/"
        },
        "id": "5tgbgqY4QHZY",
        "outputId": "dcdf7bb4-85d5-434e-e3d7-863237c146d4"
      },
      "execution_count": null,
      "outputs": [
        {
          "output_type": "execute_result",
          "data": {
            "text/plain": [
              "array([[ 0,  1,  2,  3,  4],\n",
              "       [ 5,  6,  7,  8,  9],\n",
              "       [10, 11, 12, 13, 14]])"
            ]
          },
          "metadata": {},
          "execution_count": 202
        }
      ]
    },
    {
      "cell_type": "code",
      "source": [
        "#@markdown (1) 값 7을 인덱싱\n",
        "m[1,2], m[1][2], m[1,-3],m[-2,2],m[-2,-3]"
      ],
      "metadata": {
        "colab": {
          "base_uri": "https://localhost:8080/"
        },
        "id": "YqURbl2pQiFM",
        "outputId": "1c346a83-afb9-4d75-8299-2866d5ce0bc8"
      },
      "execution_count": null,
      "outputs": [
        {
          "output_type": "execute_result",
          "data": {
            "text/plain": [
              "(7, 7, 7, 7, 7)"
            ]
          },
          "metadata": {},
          "execution_count": 208
        }
      ]
    },
    {
      "cell_type": "code",
      "source": [
        "#@markdown (2) 값 14을 인덱싱\n",
        "m[-1,-1]"
      ],
      "metadata": {
        "colab": {
          "base_uri": "https://localhost:8080/"
        },
        "id": "p2mG56nLQzY0",
        "outputId": "0e403a32-d656-4efa-e0e5-4c4809f1d160"
      },
      "execution_count": null,
      "outputs": [
        {
          "output_type": "execute_result",
          "data": {
            "text/plain": [
              "14"
            ]
          },
          "metadata": {},
          "execution_count": 210
        }
      ]
    },
    {
      "cell_type": "code",
      "source": [
        "#@markdown (3) 배열 [6,7]을 슬라이싱\n",
        "m[1,1:3]"
      ],
      "metadata": {
        "colab": {
          "base_uri": "https://localhost:8080/"
        },
        "id": "UISviULMRLnz",
        "outputId": "378aeb09-d668-4fec-8667-01fea9692ab8"
      },
      "execution_count": null,
      "outputs": [
        {
          "output_type": "execute_result",
          "data": {
            "text/plain": [
              "array([6, 7])"
            ]
          },
          "metadata": {},
          "execution_count": 212
        }
      ]
    },
    {
      "cell_type": "code",
      "source": [
        "#@markdown (4) 배열 [7,12]을 슬라이싱\n",
        "m[1:3,2]"
      ],
      "metadata": {
        "colab": {
          "base_uri": "https://localhost:8080/"
        },
        "id": "yib_p8kFRbEb",
        "outputId": "dad44119-2a84-4414-a020-0245bf81f9ad"
      },
      "execution_count": null,
      "outputs": [
        {
          "output_type": "execute_result",
          "data": {
            "text/plain": [
              "array([ 7, 12])"
            ]
          },
          "metadata": {},
          "execution_count": 214
        }
      ]
    },
    {
      "cell_type": "code",
      "source": [
        "#@markdown (5) 배열 [[3,4],[8,9]]을 슬라이싱\n",
        "m[:2,3:]"
      ],
      "metadata": {
        "colab": {
          "base_uri": "https://localhost:8080/"
        },
        "id": "6kwDWEE7SInr",
        "outputId": "df51f3c5-f5c0-4e8a-d04a-95346c62f801"
      },
      "execution_count": null,
      "outputs": [
        {
          "output_type": "execute_result",
          "data": {
            "text/plain": [
              "array([[3, 4],\n",
              "       [8, 9]])"
            ]
          },
          "metadata": {},
          "execution_count": 216
        }
      ]
    },
    {
      "cell_type": "markdown",
      "source": [
        "## 배열 인덱싱\n",
        "* 대괄호(Bracket, [])안의 인덱스 정보로 숫자나 슬라이스가 아니라 위치 정보를 나타내는 또다른 `ndarray` 배열을 받을 수 있음 (인덱스 배열)\n",
        "* 일종의 조건 검색 기능"
      ],
      "metadata": {
        "id": "fLC-QuQQRKtT"
      }
    },
    {
      "cell_type": "markdown",
      "source": [
        "### 불리언 (Boolean) 배열 인덱싱\n",
        "* 인덱스 배열의 원소가 True, False 두 값으로만 구성되며 인덱스 배열의 크기가 원래 ndarray 객체의 크기와 같아야 함"
      ],
      "metadata": {
        "id": "-5zdTgl8TR04"
      }
    },
    {
      "cell_type": "code",
      "source": [
        "# 0~8 사이의 (끝포함) 짝수만 가진 배열\n",
        "a1 = np.array(range(0, 9, 2))\n",
        "# a2 = np.array([i for i in range(0, 9) if i % 2 == 0])\n",
        "a2 = np.array([i for i in range(0, 9) if not i % 2])\n",
        "a3 = np.array(range(9))[::2]  # 배열 슬라이싱도 증가폭이 된다\n",
        "a1, a2, a3"
      ],
      "metadata": {
        "colab": {
          "base_uri": "https://localhost:8080/"
        },
        "id": "d5Uxbk1u4ipe",
        "outputId": "bdc53d53-8dc6-4c47-a799-e3a728460822"
      },
      "execution_count": null,
      "outputs": [
        {
          "output_type": "execute_result",
          "data": {
            "text/plain": [
              "(array([0, 2, 4, 6, 8]), array([0, 2, 4, 6, 8]), array([0, 2, 4, 6, 8]))"
            ]
          },
          "metadata": {},
          "execution_count": 3
        }
      ]
    },
    {
      "cell_type": "code",
      "source": [
        "# 짝수인 원소만 골라내고 싶다면?\n",
        "# 짝수에 대응하는 곳에 True, 홀수에 대응하는 곳에 False\n",
        "a = np.array(range(10))\n",
        "a"
      ],
      "metadata": {
        "id": "5GIASHJqTrlX",
        "colab": {
          "base_uri": "https://localhost:8080/"
        },
        "outputId": "483645b9-c791-4a1a-e6c1-d841a44b4544"
      },
      "execution_count": null,
      "outputs": [
        {
          "output_type": "execute_result",
          "data": {
            "text/plain": [
              "array([0, 1, 2, 3, 4, 5, 6, 7, 8, 9])"
            ]
          },
          "metadata": {},
          "execution_count": 4
        }
      ]
    },
    {
      "cell_type": "code",
      "source": [
        "# 조건문 연산\n",
        "idx = np.array([i % 2 == 0 for i in range(10)])\n",
        "idx"
      ],
      "metadata": {
        "id": "3x9YUkfNTtJ1",
        "colab": {
          "base_uri": "https://localhost:8080/"
        },
        "outputId": "02e8811b-53de-4bb0-e523-99a391a90b0f"
      },
      "execution_count": null,
      "outputs": [
        {
          "output_type": "execute_result",
          "data": {
            "text/plain": [
              "array([ True, False,  True, False,  True, False,  True, False,  True,\n",
              "       False])"
            ]
          },
          "metadata": {},
          "execution_count": 5
        }
      ]
    },
    {
      "cell_type": "code",
      "source": [
        "a[idx]  # 내가 보기를 원하는 곳만 True를 넣어놓은 배열을 [] 안에 넣으니까...\n",
        "# 필터링"
      ],
      "metadata": {
        "id": "5oDEJHbVT93r",
        "colab": {
          "base_uri": "https://localhost:8080/"
        },
        "outputId": "1efaaa2b-6eea-46a1-b7d4-1b2c9405a4de"
      },
      "execution_count": null,
      "outputs": [
        {
          "output_type": "execute_result",
          "data": {
            "text/plain": [
              "array([0, 2, 4, 6, 8])"
            ]
          },
          "metadata": {},
          "execution_count": 7
        }
      ]
    },
    {
      "cell_type": "code",
      "source": [
        "# 조건문 연산\n",
        "a % 2"
      ],
      "metadata": {
        "id": "rtfCw3vxUBOm",
        "colab": {
          "base_uri": "https://localhost:8080/"
        },
        "outputId": "d9e96778-cf3c-478a-da62-3ac2ddbeb6f6"
      },
      "execution_count": null,
      "outputs": [
        {
          "output_type": "execute_result",
          "data": {
            "text/plain": [
              "array([0, 1, 0, 1, 0, 1, 0, 1, 0, 1])"
            ]
          },
          "metadata": {},
          "execution_count": 6
        }
      ]
    },
    {
      "cell_type": "code",
      "source": [
        "a % 2 == 0  # 불리언 인덱스 배열 <- 비교 연산"
      ],
      "metadata": {
        "colab": {
          "base_uri": "https://localhost:8080/"
        },
        "id": "cO-Rbu6r5AyV",
        "outputId": "d5336e39-95d4-4452-cf7d-a0eefdf83e8c"
      },
      "execution_count": null,
      "outputs": [
        {
          "output_type": "execute_result",
          "data": {
            "text/plain": [
              "array([ True, False,  True, False,  True, False,  True, False,  True,\n",
              "       False])"
            ]
          },
          "metadata": {},
          "execution_count": 8
        }
      ]
    },
    {
      "cell_type": "code",
      "source": [
        "a[a % 3 == 0], a[a % 3 != 0], a[a // 2 == 1]"
      ],
      "metadata": {
        "colab": {
          "base_uri": "https://localhost:8080/"
        },
        "id": "vZZ_7MGc5LJk",
        "outputId": "dee5a1c1-7933-4964-a708-d24048bd9f4e"
      },
      "execution_count": null,
      "outputs": [
        {
          "output_type": "execute_result",
          "data": {
            "text/plain": [
              "(array([0, 3, 6, 9]), array([1, 2, 4, 5, 7, 8]), array([2, 3]))"
            ]
          },
          "metadata": {},
          "execution_count": 9
        }
      ]
    },
    {
      "cell_type": "markdown",
      "source": [
        "### 정수 배열 인덱싱\n",
        "* 인덱스 배열의 원소 각각이 원래 `ndarray` 객체 원소 하나를 가리키는 인덱스 정수이여야 함"
      ],
      "metadata": {
        "id": "ynIZBX2dUQIv"
      }
    },
    {
      "cell_type": "code",
      "source": [
        "a = np.array(range(1, 10)) * 11\n",
        "a"
      ],
      "metadata": {
        "id": "SOOuM49bUcT9",
        "colab": {
          "base_uri": "https://localhost:8080/"
        },
        "outputId": "4a19e70f-a3eb-43c7-ceb8-4b0eed9f4ff1"
      },
      "execution_count": null,
      "outputs": [
        {
          "output_type": "execute_result",
          "data": {
            "text/plain": [
              "array([11, 22, 33, 44, 55, 66, 77, 88, 99])"
            ]
          },
          "metadata": {},
          "execution_count": 11
        }
      ]
    },
    {
      "cell_type": "code",
      "source": [
        "# 0, 2, 4, 6, 8 -> 인덱스\n",
        "idx = np.array([0, 2, 4, 6, 8])\n",
        "a[idx], a[[0, 2, 4, 6, 8]]"
      ],
      "metadata": {
        "colab": {
          "base_uri": "https://localhost:8080/"
        },
        "id": "lF5f2D_55SpN",
        "outputId": "2d955151-dc6a-4d76-8c93-737a72e22891"
      },
      "execution_count": null,
      "outputs": [
        {
          "output_type": "execute_result",
          "data": {
            "text/plain": [
              "(array([11, 33, 55, 77, 99]), array([11, 33, 55, 77, 99]))"
            ]
          },
          "metadata": {},
          "execution_count": 12
        }
      ]
    },
    {
      "cell_type": "markdown",
      "source": [
        "* 이 때는 배열 인덱스의 크기가 원래의 배열 크기와 달라도 상관없음\n",
        "* 같은 원소를 반복해서 가리키는 경우에는 배열 인덱스가 원래의 배열보다 더 커지기도 함"
      ],
      "metadata": {
        "id": "2ChR92erUf7O"
      }
    },
    {
      "cell_type": "code",
      "source": [
        "idx = np.array([0] * 6 + [1] * 5 + [2] * 5)\n",
        "print(idx)\n",
        "a[idx]  # 해당 인덱스가 반복해서 등장하는 만큼."
      ],
      "metadata": {
        "id": "U_k_sieeUeoi",
        "colab": {
          "base_uri": "https://localhost:8080/"
        },
        "outputId": "5683cf99-877a-49e7-f7b8-7edb753dbd42"
      },
      "execution_count": null,
      "outputs": [
        {
          "output_type": "stream",
          "name": "stdout",
          "text": [
            "[0 0 0 0 0 0 1 1 1 1 1 2 2 2 2 2]\n"
          ]
        },
        {
          "output_type": "execute_result",
          "data": {
            "text/plain": [
              "array([11, 11, 11, 11, 11, 11, 22, 22, 22, 22, 22, 33, 33, 33, 33, 33])"
            ]
          },
          "metadata": {},
          "execution_count": 13
        }
      ]
    },
    {
      "cell_type": "markdown",
      "source": [
        "### 다차원 배열에서의 배열 인덱싱"
      ],
      "metadata": {
        "id": "XUEo3DxjUl7Q"
      }
    },
    {
      "cell_type": "code",
      "source": [
        "a = np.array([range(1,5), range(5,9), range(9,13)])\n",
        "a, a.ndim, a.shape"
      ],
      "metadata": {
        "id": "G4aIB5_BUcsp",
        "colab": {
          "base_uri": "https://localhost:8080/"
        },
        "outputId": "5fa6eff7-4623-49f7-9b8c-c0b8916633f2"
      },
      "execution_count": null,
      "outputs": [
        {
          "output_type": "execute_result",
          "data": {
            "text/plain": [
              "(array([[ 1,  2,  3,  4],\n",
              "        [ 5,  6,  7,  8],\n",
              "        [ 9, 10, 11, 12]]),\n",
              " 2,\n",
              " (3, 4))"
            ]
          },
          "metadata": {},
          "execution_count": 14
        }
      ]
    },
    {
      "cell_type": "code",
      "source": [
        "print(a[:,[0,3]])\n",
        "# print(a[:,[3,0]])\n",
        "print(a[:,[0,-1]])\n",
        "print(a[:,[True, False, True, False]])\n",
        "print(a[:,[i % 2 == 0 for i in range(4)]])"
      ],
      "metadata": {
        "id": "rt0XDr6XUs5w",
        "colab": {
          "base_uri": "https://localhost:8080/"
        },
        "outputId": "9e5578c7-7607-49c4-8636-cc84d176cd70"
      },
      "execution_count": null,
      "outputs": [
        {
          "output_type": "stream",
          "name": "stdout",
          "text": [
            "[[ 1  4]\n",
            " [ 5  8]\n",
            " [ 9 12]]\n",
            "[[ 1  4]\n",
            " [ 5  8]\n",
            " [ 9 12]]\n",
            "[[ 1  3]\n",
            " [ 5  7]\n",
            " [ 9 11]]\n",
            "[[ 1  3]\n",
            " [ 5  7]\n",
            " [ 9 11]]\n"
          ]
        }
      ]
    },
    {
      "cell_type": "code",
      "source": [
        "a[[2, 0, 1],:]"
      ],
      "metadata": {
        "id": "3Ar68wUpUvqk",
        "colab": {
          "base_uri": "https://localhost:8080/"
        },
        "outputId": "e154f37e-533b-42af-8f2e-98e3764de995"
      },
      "execution_count": null,
      "outputs": [
        {
          "output_type": "execute_result",
          "data": {
            "text/plain": [
              "array([[ 9, 10, 11, 12],\n",
              "       [ 1,  2,  3,  4],\n",
              "       [ 5,  6,  7,  8]])"
            ]
          },
          "metadata": {},
          "execution_count": 16
        }
      ]
    },
    {
      "cell_type": "markdown",
      "source": [
        "## 💡 연습문제 3"
      ],
      "metadata": {
        "id": "7y4B3S9XY6A5"
      }
    },
    {
      "cell_type": "code",
      "source": [
        "x = np.array([1, 2, 3, 4, 5, 6, 7, 8, 9, 10,\n",
        "             11, 12, 13, 14, 15, 16, 17, 18, 19, 20])\n",
        "x"
      ],
      "metadata": {
        "id": "o3Fz2Ji8Y5vw",
        "colab": {
          "base_uri": "https://localhost:8080/"
        },
        "outputId": "8cd4cc67-87d5-40e4-b16d-9144c400c099"
      },
      "execution_count": null,
      "outputs": [
        {
          "output_type": "execute_result",
          "data": {
            "text/plain": [
              "array([ 1,  2,  3,  4,  5,  6,  7,  8,  9, 10, 11, 12, 13, 14, 15, 16, 17,\n",
              "       18, 19, 20])"
            ]
          },
          "metadata": {},
          "execution_count": 18
        }
      ]
    },
    {
      "cell_type": "code",
      "source": [
        "# (1) 3의 배수 찾기\n",
        "x[x%3==0]\n",
        "# x[x % 3 != 0]"
      ],
      "metadata": {
        "id": "pSfabTzmUwHy",
        "colab": {
          "base_uri": "https://localhost:8080/"
        },
        "outputId": "c92f70ae-7712-4608-fd71-289c0224b038"
      },
      "execution_count": null,
      "outputs": [
        {
          "output_type": "execute_result",
          "data": {
            "text/plain": [
              "array([ 3,  6,  9, 12, 15, 18])"
            ]
          },
          "metadata": {},
          "execution_count": 22
        }
      ]
    },
    {
      "cell_type": "code",
      "source": [
        "# (2) 4로 나누면 1이 남는 수 찾기\n",
        "x[x%4 == 1]"
      ],
      "metadata": {
        "id": "iNwraEzfZEIx",
        "colab": {
          "base_uri": "https://localhost:8080/"
        },
        "outputId": "67169cf8-c69d-4f3f-be44-9aa08acf9f92"
      },
      "execution_count": null,
      "outputs": [
        {
          "output_type": "execute_result",
          "data": {
            "text/plain": [
              "array([ 1,  5,  9, 13, 17])"
            ]
          },
          "metadata": {},
          "execution_count": 23
        }
      ]
    },
    {
      "cell_type": "code",
      "source": [
        "# (3) 3로 나누면 나누어지고 4로 나누면 1이 남는 수 찾기\n",
        "x[(x % 3 == 0) & (x % 4 == 1)]\n",
        "# x[(x % 3 == 0) | (x % 4 == 1)]"
      ],
      "metadata": {
        "id": "3oXEum9FZIUp",
        "colab": {
          "base_uri": "https://localhost:8080/"
        },
        "outputId": "454778fe-7429-4d62-b07e-d329341ca404"
      },
      "execution_count": null,
      "outputs": [
        {
          "output_type": "execute_result",
          "data": {
            "text/plain": [
              "array([9])"
            ]
          },
          "metadata": {},
          "execution_count": 24
        }
      ]
    },
    {
      "cell_type": "markdown",
      "source": [
        "## 배열 검색"
      ],
      "metadata": {
        "id": "opMRQboTS9M8"
      }
    },
    {
      "cell_type": "code",
      "source": [
        "arr = np.array([1, 2, 3, 4, 5, 4, 4])\n",
        "arr"
      ],
      "metadata": {
        "id": "4jLCR2pbTAW1",
        "colab": {
          "base_uri": "https://localhost:8080/"
        },
        "outputId": "4c92f294-2e74-4544-a488-657f1b9372fa"
      },
      "execution_count": null,
      "outputs": [
        {
          "output_type": "execute_result",
          "data": {
            "text/plain": [
              "array([1, 2, 3, 4, 5, 4, 4])"
            ]
          },
          "metadata": {},
          "execution_count": 26
        }
      ]
    },
    {
      "cell_type": "code",
      "source": [
        "# np.where(배열 비교/논리 연산) -> 조건을 만족시킨 값의 인덱스 반환\n",
        "x = np.where(arr == 4)\n",
        "x, arr[x]"
      ],
      "metadata": {
        "id": "VvPTrDGnTBo_",
        "colab": {
          "base_uri": "https://localhost:8080/"
        },
        "outputId": "5f67642a-3a78-48b5-abc3-395a9b0b2c39"
      },
      "execution_count": null,
      "outputs": [
        {
          "output_type": "execute_result",
          "data": {
            "text/plain": [
              "((array([3, 5, 6]),), array([4, 4, 4]))"
            ]
          },
          "metadata": {},
          "execution_count": 27
        }
      ]
    },
    {
      "cell_type": "code",
      "source": [
        "arr = np.array(range(1, 9))\n",
        "print(arr)\n",
        "x = np.where(arr % 2 == 0)  # 짝수 <- 인덱스\n",
        "x, arr[x], arr[arr % 2 == 0]"
      ],
      "metadata": {
        "colab": {
          "base_uri": "https://localhost:8080/"
        },
        "id": "oP31vh-P6Rml",
        "outputId": "f7e42f62-f8ac-4e0e-8d48-8dbd08524cba"
      },
      "execution_count": null,
      "outputs": [
        {
          "output_type": "stream",
          "name": "stdout",
          "text": [
            "[1 2 3 4 5 6 7 8]\n"
          ]
        },
        {
          "output_type": "execute_result",
          "data": {
            "text/plain": [
              "((array([1, 3, 5, 7]),), array([2, 4, 6, 8]), array([2, 4, 6, 8]))"
            ]
          },
          "metadata": {},
          "execution_count": 28
        }
      ]
    },
    {
      "cell_type": "code",
      "source": [
        "a = np.array(range(100, 1000, 100)) # 9개  # 점수 배열\n",
        "b = np.array([i + \"파이썬\" for i in \"김이박최류유조한송\"])  # 이름 배열\n",
        "b[np.where(a % 200 == 0)]"
      ],
      "metadata": {
        "colab": {
          "base_uri": "https://localhost:8080/"
        },
        "id": "4DJ8bU_o6UYd",
        "outputId": "ec15098b-2835-443f-d2ec-7c09d20e5b68"
      },
      "execution_count": null,
      "outputs": [
        {
          "output_type": "execute_result",
          "data": {
            "text/plain": [
              "array(['이파이썬', '최파이썬', '유파이썬', '한파이썬'], dtype='<U4')"
            ]
          },
          "metadata": {},
          "execution_count": 29
        }
      ]
    }
  ]
}