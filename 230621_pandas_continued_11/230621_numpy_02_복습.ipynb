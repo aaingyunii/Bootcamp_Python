{
  "nbformat": 4,
  "nbformat_minor": 0,
  "metadata": {
    "colab": {
      "provenance": [],
      "include_colab_link": true
    },
    "kernelspec": {
      "name": "python3",
      "display_name": "Python 3"
    },
    "language_info": {
      "name": "python"
    }
  },
  "cells": [
    {
      "cell_type": "markdown",
      "metadata": {
        "id": "view-in-github",
        "colab_type": "text"
      },
      "source": [
        "<a href=\"https://colab.research.google.com/github/aaingyunii/230621/blob/main/230621_numpy_02_%EB%B3%B5%EC%8A%B5.ipynb\" target=\"_parent\"><img src=\"https://colab.research.google.com/assets/colab-badge.svg\" alt=\"Open In Colab\"/></a>"
      ]
    },
    {
      "cell_type": "code",
      "source": [
        "import numpy as np"
      ],
      "metadata": {
        "id": "NvuiNeHQe2Ea"
      },
      "execution_count": 3,
      "outputs": []
    },
    {
      "cell_type": "code",
      "source": [
        "x = np.arange(1,10001)\n",
        "y = np.arange(10001,20001)\n",
        "x,y"
      ],
      "metadata": {
        "colab": {
          "base_uri": "https://localhost:8080/"
        },
        "id": "m7F_alRFe9Fa",
        "outputId": "87ab7646-18ae-419b-d591-f39fa7d7abdd"
      },
      "execution_count": 15,
      "outputs": [
        {
          "output_type": "execute_result",
          "data": {
            "text/plain": [
              "(array([    1,     2,     3, ...,  9998,  9999, 10000]),\n",
              " array([10001, 10002, 10003, ..., 19998, 19999, 20000]))"
            ]
          },
          "metadata": {},
          "execution_count": 15
        }
      ]
    },
    {
      "cell_type": "code",
      "source": [
        "#@title 벡터화 연산"
      ],
      "metadata": {
        "id": "QuYy5VBcfmNU"
      },
      "execution_count": 16,
      "outputs": []
    },
    {
      "cell_type": "code",
      "source": [
        "z= x+y  # -> 벡터화 연산\n",
        "z"
      ],
      "metadata": {
        "colab": {
          "base_uri": "https://localhost:8080/"
        },
        "id": "D0NUb1gIfKXg",
        "outputId": "c449118d-71c2-41e0-e7dc-1a2609aea4f2"
      },
      "execution_count": 6,
      "outputs": [
        {
          "output_type": "execute_result",
          "data": {
            "text/plain": [
              "array([10002, 10004, 10006, ..., 29996, 29998, 30000])"
            ]
          },
          "metadata": {},
          "execution_count": 6
        }
      ]
    },
    {
      "cell_type": "code",
      "source": [
        "x == y"
      ],
      "metadata": {
        "colab": {
          "base_uri": "https://localhost:8080/"
        },
        "id": "B1ecMQJEfL8K",
        "outputId": "964bc2fe-f900-4f9e-8046-00526c4c3a98"
      },
      "execution_count": 7,
      "outputs": [
        {
          "output_type": "execute_result",
          "data": {
            "text/plain": [
              "array([False, False, False, ..., False, False, False])"
            ]
          },
          "metadata": {},
          "execution_count": 7
        }
      ]
    },
    {
      "cell_type": "code",
      "source": [
        "(x == y) | (x < y)"
      ],
      "metadata": {
        "colab": {
          "base_uri": "https://localhost:8080/"
        },
        "id": "WHhm2wyHfR6M",
        "outputId": "cf144882-b76a-4e52-a6d1-bc416f60913e"
      },
      "execution_count": 8,
      "outputs": [
        {
          "output_type": "execute_result",
          "data": {
            "text/plain": [
              "array([ True,  True,  True, ...,  True,  True,  True])"
            ]
          },
          "metadata": {},
          "execution_count": 8
        }
      ]
    },
    {
      "cell_type": "code",
      "source": [
        "a = np.arange(1,5)\n",
        "a"
      ],
      "metadata": {
        "colab": {
          "base_uri": "https://localhost:8080/"
        },
        "id": "CckRjb4jfVy6",
        "outputId": "69668735-1cc7-4765-e8e3-97f94a95b644"
      },
      "execution_count": 9,
      "outputs": [
        {
          "output_type": "execute_result",
          "data": {
            "text/plain": [
              "array([1, 2, 3, 4])"
            ]
          },
          "metadata": {},
          "execution_count": 9
        }
      ]
    },
    {
      "cell_type": "code",
      "source": [
        "np.exp(a)"
      ],
      "metadata": {
        "colab": {
          "base_uri": "https://localhost:8080/"
        },
        "id": "A8SZbETzfcN1",
        "outputId": "62374036-540f-4f0b-bc56-ae19686c15c5"
      },
      "execution_count": 10,
      "outputs": [
        {
          "output_type": "execute_result",
          "data": {
            "text/plain": [
              "array([ 2.71828183,  7.3890561 , 20.08553692, 54.59815003])"
            ]
          },
          "metadata": {},
          "execution_count": 10
        }
      ]
    },
    {
      "cell_type": "code",
      "source": [
        "10 ** a"
      ],
      "metadata": {
        "colab": {
          "base_uri": "https://localhost:8080/"
        },
        "id": "4AYkufBqfeht",
        "outputId": "397ad385-23cb-45bd-c800-e9b8fd25a3b6"
      },
      "execution_count": 11,
      "outputs": [
        {
          "output_type": "execute_result",
          "data": {
            "text/plain": [
              "array([   10,   100,  1000, 10000])"
            ]
          },
          "metadata": {},
          "execution_count": 11
        }
      ]
    },
    {
      "cell_type": "code",
      "source": [
        "np.log(a)"
      ],
      "metadata": {
        "colab": {
          "base_uri": "https://localhost:8080/"
        },
        "id": "8GDKdgoOfgQ2",
        "outputId": "037d80a0-4df1-43f7-b2a3-9b9b131f2a58"
      },
      "execution_count": 13,
      "outputs": [
        {
          "output_type": "execute_result",
          "data": {
            "text/plain": [
              "array([0.        , 0.69314718, 1.09861229, 1.38629436])"
            ]
          },
          "metadata": {},
          "execution_count": 13
        }
      ]
    },
    {
      "cell_type": "markdown",
      "source": [
        "# 스칼라 / 벡터"
      ],
      "metadata": {
        "id": "_9GMtfB5fvxj"
      }
    },
    {
      "cell_type": "code",
      "source": [
        "x = np.arange(10)\n",
        "x, x.ndim, x.shape"
      ],
      "metadata": {
        "colab": {
          "base_uri": "https://localhost:8080/"
        },
        "id": "x2Cz33VAfwit",
        "outputId": "4f7916c2-0c32-4faf-b60a-6ba7eda4a8f5"
      },
      "execution_count": 18,
      "outputs": [
        {
          "output_type": "execute_result",
          "data": {
            "text/plain": [
              "(array([0, 1, 2, 3, 4, 5, 6, 7, 8, 9]), 1, (10,))"
            ]
          },
          "metadata": {},
          "execution_count": 18
        }
      ]
    },
    {
      "cell_type": "code",
      "source": [
        "x * 100  # 100 -> x라는 배열의 모양에 맞춰서 변형 (브로드캐스팅)"
      ],
      "metadata": {
        "colab": {
          "base_uri": "https://localhost:8080/"
        },
        "id": "Cksq01Ajf29o",
        "outputId": "eea22f7a-f202-4997-8b3e-0c295147024d"
      },
      "execution_count": 20,
      "outputs": [
        {
          "output_type": "execute_result",
          "data": {
            "text/plain": [
              "array([  0, 100, 200, 300, 400, 500, 600, 700, 800, 900])"
            ]
          },
          "metadata": {},
          "execution_count": 20
        }
      ]
    },
    {
      "cell_type": "code",
      "source": [
        "x = np.arange(12).reshape(-1,4)\n",
        "x"
      ],
      "metadata": {
        "colab": {
          "base_uri": "https://localhost:8080/"
        },
        "id": "uDROxjDCf4VX",
        "outputId": "928d7d2c-5253-4480-a989-b92945bd95b2"
      },
      "execution_count": 23,
      "outputs": [
        {
          "output_type": "execute_result",
          "data": {
            "text/plain": [
              "array([[ 0,  1,  2,  3],\n",
              "       [ 4,  5,  6,  7],\n",
              "       [ 8,  9, 10, 11]])"
            ]
          },
          "metadata": {},
          "execution_count": 23
        }
      ]
    },
    {
      "cell_type": "code",
      "source": [
        "x *100"
      ],
      "metadata": {
        "colab": {
          "base_uri": "https://localhost:8080/"
        },
        "id": "b65KiLFNgExx",
        "outputId": "8f50d4f7-0749-48f8-b0d3-8861fb51ad46"
      },
      "execution_count": 24,
      "outputs": [
        {
          "output_type": "execute_result",
          "data": {
            "text/plain": [
              "array([[   0,  100,  200,  300],\n",
              "       [ 400,  500,  600,  700],\n",
              "       [ 800,  900, 1000, 1100]])"
            ]
          },
          "metadata": {},
          "execution_count": 24
        }
      ]
    },
    {
      "cell_type": "markdown",
      "source": [
        "# 브로드캐스팅"
      ],
      "metadata": {
        "id": "ZGYupb9pgL5b"
      }
    },
    {
      "cell_type": "code",
      "source": [
        "x = np.arange(5)\n",
        "x"
      ],
      "metadata": {
        "colab": {
          "base_uri": "https://localhost:8080/"
        },
        "id": "rmmfAM50gKBq",
        "outputId": "5689b0ed-1fbf-498a-9b6a-1e6f666bdff9"
      },
      "execution_count": 25,
      "outputs": [
        {
          "output_type": "execute_result",
          "data": {
            "text/plain": [
              "array([0, 1, 2, 3, 4])"
            ]
          },
          "metadata": {},
          "execution_count": 25
        }
      ]
    },
    {
      "cell_type": "code",
      "source": [
        "x + 1, x - 100, x * 200, x / 10 #  x라는 배열의 모양에 맞춰서 변형 (브로드캐스팅)"
      ],
      "metadata": {
        "colab": {
          "base_uri": "https://localhost:8080/"
        },
        "id": "rsvMrWEggX44",
        "outputId": "18b13c7e-9e70-40c8-d697-d2842a212b86"
      },
      "execution_count": 28,
      "outputs": [
        {
          "output_type": "execute_result",
          "data": {
            "text/plain": [
              "(array([1, 2, 3, 4, 5]),\n",
              " array([-100,  -99,  -98,  -97,  -96]),\n",
              " array([  0, 200, 400, 600, 800]),\n",
              " array([0. , 0.1, 0.2, 0.3, 0.4]))"
            ]
          },
          "metadata": {},
          "execution_count": 28
        }
      ]
    },
    {
      "cell_type": "code",
      "source": [
        "x = np.arange(15).reshape(5,-1)\n",
        "x"
      ],
      "metadata": {
        "colab": {
          "base_uri": "https://localhost:8080/"
        },
        "id": "kjuwzpsugZYI",
        "outputId": "62974ec2-7951-45ef-b2a7-76cffb704bb0"
      },
      "execution_count": 29,
      "outputs": [
        {
          "output_type": "execute_result",
          "data": {
            "text/plain": [
              "array([[ 0,  1,  2],\n",
              "       [ 3,  4,  5],\n",
              "       [ 6,  7,  8],\n",
              "       [ 9, 10, 11],\n",
              "       [12, 13, 14]])"
            ]
          },
          "metadata": {},
          "execution_count": 29
        }
      ]
    },
    {
      "cell_type": "code",
      "source": [
        "y = np.arange(5)\n",
        "y"
      ],
      "metadata": {
        "colab": {
          "base_uri": "https://localhost:8080/"
        },
        "id": "RMV3-wnxgqZ-",
        "outputId": "b3962949-ef26-4f0b-fe60-e040f0f44917"
      },
      "execution_count": 30,
      "outputs": [
        {
          "output_type": "execute_result",
          "data": {
            "text/plain": [
              "array([0, 1, 2, 3, 4])"
            ]
          },
          "metadata": {},
          "execution_count": 30
        }
      ]
    },
    {
      "cell_type": "code",
      "source": [
        "x + y # 에러, 차원이 달라서 불가"
      ],
      "metadata": {
        "colab": {
          "base_uri": "https://localhost:8080/",
          "height": 174
        },
        "id": "8ijacnGjguK6",
        "outputId": "6415d7bd-0fbb-4159-f840-d8701ed075a9"
      },
      "execution_count": 33,
      "outputs": [
        {
          "output_type": "error",
          "ename": "ValueError",
          "evalue": "ignored",
          "traceback": [
            "\u001b[0;31m---------------------------------------------------------------------------\u001b[0m",
            "\u001b[0;31mValueError\u001b[0m                                Traceback (most recent call last)",
            "\u001b[0;32m<ipython-input-33-6e8cf526182c>\u001b[0m in \u001b[0;36m<cell line: 1>\u001b[0;34m()\u001b[0m\n\u001b[0;32m----> 1\u001b[0;31m \u001b[0mx\u001b[0m \u001b[0;34m+\u001b[0m \u001b[0my\u001b[0m \u001b[0;31m# 에러\u001b[0m\u001b[0;34m\u001b[0m\u001b[0;34m\u001b[0m\u001b[0m\n\u001b[0m",
            "\u001b[0;31mValueError\u001b[0m: operands could not be broadcast together with shapes (5,3) (5,) "
          ]
        }
      ]
    },
    {
      "cell_type": "code",
      "source": [
        "y2 = y[:, np.newaxis] # 차원을 맞추기 위해 newaxis\n",
        "y2, y2.shape"
      ],
      "metadata": {
        "colab": {
          "base_uri": "https://localhost:8080/"
        },
        "id": "O-_rUVdHgw3J",
        "outputId": "cfd9bda0-175b-40e6-d3a6-205e38644127"
      },
      "execution_count": 36,
      "outputs": [
        {
          "output_type": "execute_result",
          "data": {
            "text/plain": [
              "(array([[0],\n",
              "        [1],\n",
              "        [2],\n",
              "        [3],\n",
              "        [4]]),\n",
              " (5, 1))"
            ]
          },
          "metadata": {},
          "execution_count": 36
        }
      ]
    },
    {
      "cell_type": "code",
      "source": [
        "x + y2  # y2 -> 짧았음 -> 1열 -> 3열로 반복확장"
      ],
      "metadata": {
        "colab": {
          "base_uri": "https://localhost:8080/"
        },
        "id": "_ZQLeg-ng89a",
        "outputId": "a881ee86-44af-41ed-84b9-4446f5b5cb46"
      },
      "execution_count": 38,
      "outputs": [
        {
          "output_type": "execute_result",
          "data": {
            "text/plain": [
              "array([[ 0,  1,  2],\n",
              "       [ 4,  5,  6],\n",
              "       [ 8,  9, 10],\n",
              "       [12, 13, 14],\n",
              "       [16, 17, 18]])"
            ]
          },
          "metadata": {},
          "execution_count": 38
        }
      ]
    },
    {
      "cell_type": "markdown",
      "source": [
        "# 차원 축소 연산"
      ],
      "metadata": {
        "id": "RaG_UsU3hTJy"
      }
    },
    {
      "cell_type": "code",
      "source": [
        "x = np.random.randint(0,10,4)\n",
        "x"
      ],
      "metadata": {
        "colab": {
          "base_uri": "https://localhost:8080/"
        },
        "id": "lKAg9VYbhJjM",
        "outputId": "1a099a2d-0008-453b-ea81-f05239d3dfe4"
      },
      "execution_count": 42,
      "outputs": [
        {
          "output_type": "execute_result",
          "data": {
            "text/plain": [
              "array([6, 3, 4, 1])"
            ]
          },
          "metadata": {},
          "execution_count": 42
        }
      ]
    },
    {
      "cell_type": "code",
      "source": [
        "print(np.sum(x),x.sum())  # 합계\n",
        "print(np.max(x),x.max())  # 최댓값\n",
        "print(np.min(x),x.min())  # 최솟값\n",
        "print(np.argmax(x),x.argmax())   # 최댓값의 인덱스를 구하는거\n",
        "print(np.argmin(x),x.argmin())   # 최솟값의 인덱스를 구하는거\n",
        "print(np.mean(x),x.mean())   # 평균\n",
        "print(np.median(x))   # 중간값 -> 전체 개수가 짝수 : 중간에 위치한 값 두개의 평균값이 중간값.\n",
        "print(np.all(x > 5), (x > 5).all())   # 모두 True인지\n",
        "print(np.any(x > 5), (x > 5).any())   # 하나라도 True 인지"
      ],
      "metadata": {
        "colab": {
          "base_uri": "https://localhost:8080/"
        },
        "id": "DEvAvFf0hfho",
        "outputId": "d362bc07-2409-4134-e2ba-42bcc645334d"
      },
      "execution_count": 47,
      "outputs": [
        {
          "output_type": "stream",
          "name": "stdout",
          "text": [
            "14 14\n",
            "6 6\n",
            "1 1\n",
            "0 0\n",
            "3 3\n",
            "3.5 3.5\n",
            "3.5\n",
            "False False\n",
            "True True\n"
          ]
        }
      ]
    },
    {
      "cell_type": "code",
      "source": [
        "x = np.random.randint(0,100,6).reshape(2,-1)\n",
        "x"
      ],
      "metadata": {
        "colab": {
          "base_uri": "https://localhost:8080/"
        },
        "id": "0ZhZbGjmh8bz",
        "outputId": "2dfa5e79-8a9e-4509-fee1-9c418d124e84"
      },
      "execution_count": 48,
      "outputs": [
        {
          "output_type": "execute_result",
          "data": {
            "text/plain": [
              "array([[18, 76, 24],\n",
              "       [31, 53, 12]])"
            ]
          },
          "metadata": {},
          "execution_count": 48
        }
      ]
    },
    {
      "cell_type": "code",
      "source": [
        "print(x.sum(), x.sum(axis=None) ) # 축을 신경을 안쓴다.\n",
        "print(x.sum(axis=0) )  # 같은 행을 합쳐주겠다. 열들간의 연산 - > 열모양\n",
        "print(x.sum(axis=1) )  # 같은 열을 합쳐주겠다. 행들간의 연산 -> 행모양\n"
      ],
      "metadata": {
        "colab": {
          "base_uri": "https://localhost:8080/"
        },
        "id": "NUzBlgUBi8FR",
        "outputId": "7ab7841b-327c-46cd-a6dd-41cc1b10f20e"
      },
      "execution_count": 51,
      "outputs": [
        {
          "output_type": "stream",
          "name": "stdout",
          "text": [
            "214 214\n",
            "[ 49 129  36]\n",
            "[118  96]\n"
          ]
        }
      ]
    },
    {
      "cell_type": "code",
      "source": [
        "x"
      ],
      "metadata": {
        "colab": {
          "base_uri": "https://localhost:8080/"
        },
        "id": "wlNmKb8hjNrs",
        "outputId": "2b7e5566-c608-4e5d-c2d0-9d6507e234c8"
      },
      "execution_count": 52,
      "outputs": [
        {
          "output_type": "execute_result",
          "data": {
            "text/plain": [
              "array([[18, 76, 24],\n",
              "       [31, 53, 12]])"
            ]
          },
          "metadata": {},
          "execution_count": 52
        }
      ]
    },
    {
      "cell_type": "code",
      "source": [
        "np.sort(x), np.sort(x, axis=-1)   # axis = -1 -> ndim -1 차원, 가장 안쪽 자리"
      ],
      "metadata": {
        "colab": {
          "base_uri": "https://localhost:8080/"
        },
        "id": "Xwi15tM4jZDp",
        "outputId": "802e293a-e30c-430c-fa0b-d875db5dda3b"
      },
      "execution_count": 54,
      "outputs": [
        {
          "output_type": "execute_result",
          "data": {
            "text/plain": [
              "(array([[18, 24, 76],\n",
              "        [12, 31, 53]]),\n",
              " array([[18, 24, 76],\n",
              "        [12, 31, 53]]))"
            ]
          },
          "metadata": {},
          "execution_count": 54
        }
      ]
    },
    {
      "cell_type": "code",
      "source": [
        "np.sort(x, axis = 0)  , np.sort(x, axis = 0)[:,::-1] # 행 기준으로 정렬"
      ],
      "metadata": {
        "colab": {
          "base_uri": "https://localhost:8080/"
        },
        "id": "EoZH-53Qjb12",
        "outputId": "ab73527c-aa5d-40b3-8773-c63561bd287b"
      },
      "execution_count": 56,
      "outputs": [
        {
          "output_type": "execute_result",
          "data": {
            "text/plain": [
              "(array([[18, 53, 12],\n",
              "        [31, 76, 24]]),\n",
              " array([[12, 53, 18],\n",
              "        [24, 76, 31]]))"
            ]
          },
          "metadata": {},
          "execution_count": 56
        }
      ]
    },
    {
      "cell_type": "code",
      "source": [
        "np.sort(x, axis=1), np.sort(x, axis=1)[::-1,:]"
      ],
      "metadata": {
        "colab": {
          "base_uri": "https://localhost:8080/"
        },
        "id": "Tj4KG_Dajs84",
        "outputId": "134d4c2c-c8ed-49dd-a911-e39e0e381561"
      },
      "execution_count": 62,
      "outputs": [
        {
          "output_type": "execute_result",
          "data": {
            "text/plain": [
              "(array([[18, 24, 76],\n",
              "        [12, 31, 53]]),\n",
              " array([[12, 31, 53],\n",
              "        [18, 24, 76]]))"
            ]
          },
          "metadata": {},
          "execution_count": 62
        }
      ]
    },
    {
      "cell_type": "code",
      "source": [
        "a.sort()\n",
        "a"
      ],
      "metadata": {
        "colab": {
          "base_uri": "https://localhost:8080/"
        },
        "id": "DL-PkxPlkG32",
        "outputId": "3da8f948-1994-49d7-e781-15fd63ba22fc"
      },
      "execution_count": 60,
      "outputs": [
        {
          "output_type": "execute_result",
          "data": {
            "text/plain": [
              "array([1, 2, 3, 4])"
            ]
          },
          "metadata": {},
          "execution_count": 60
        }
      ]
    },
    {
      "cell_type": "code",
      "source": [
        "np.argsort(a)"
      ],
      "metadata": {
        "colab": {
          "base_uri": "https://localhost:8080/"
        },
        "id": "VQW8GscmkMqu",
        "outputId": "bc5beb60-7caf-4b4b-be18-42fe0264ef7c"
      },
      "execution_count": 61,
      "outputs": [
        {
          "output_type": "execute_result",
          "data": {
            "text/plain": [
              "array([0, 1, 2, 3])"
            ]
          },
          "metadata": {},
          "execution_count": 61
        }
      ]
    },
    {
      "cell_type": "markdown",
      "source": [
        "# 기술 통계"
      ],
      "metadata": {
        "id": "9ZV4eN4Uka-u"
      }
    },
    {
      "cell_type": "code",
      "source": [
        "x = np.random.randint(-100, 100, 30)\n",
        "x"
      ],
      "metadata": {
        "colab": {
          "base_uri": "https://localhost:8080/"
        },
        "id": "pEbF3Df3kagv",
        "outputId": "4953bb07-396c-4a30-fb36-759d4bef5d09"
      },
      "execution_count": 64,
      "outputs": [
        {
          "output_type": "execute_result",
          "data": {
            "text/plain": [
              "array([-100,  -67,  -69,   28,  -15,   78,    8,   57,  -88,  -10,   21,\n",
              "        -95,  -43,  -87,    7,  -14,  -20,   -5,   85,  -88,   95,    4,\n",
              "         57,  -16,  -34,   -5,  -98,   23,   77,  -58])"
            ]
          },
          "metadata": {},
          "execution_count": 64
        }
      ]
    },
    {
      "cell_type": "code",
      "source": [
        "print(len(x))\n",
        "print(np.mean(x) , x.mean())\n",
        "print(np.var(x) ,\" / \", x.var())  # 분산\n",
        "print(np.std(x) ,\" / \", x.std())  # 표준편차\n",
        "# max min median 생략\n",
        "print(np.percentile(x, 0)) # 최솟값\n",
        "print(np.percentile(x, 25)) # 1사분위수\n",
        "print(np.percentile(x, 50)) # 2사분위수\n",
        "print(np.percentile(x, 75)) # 3사분위수\n",
        "print(np.percentile(x, 100))  # 최댓값, 4사분위수"
      ],
      "metadata": {
        "colab": {
          "base_uri": "https://localhost:8080/"
        },
        "id": "tT6BYKwEkR92",
        "outputId": "4738815f-bdc1-4f56-8ffc-df2022ad6d3d"
      },
      "execution_count": 72,
      "outputs": [
        {
          "output_type": "stream",
          "name": "stdout",
          "text": [
            "30\n",
            "-12.4 -12.4\n",
            "3352.106666666667  /  3352.106666666667\n",
            "57.897380481906666  /  57.897380481906666\n",
            "-100.0\n",
            "-64.75\n",
            "-12.0\n",
            "22.5\n",
            "95.0\n"
          ]
        }
      ]
    },
    {
      "cell_type": "markdown",
      "source": [
        "# 난수 발생"
      ],
      "metadata": {
        "id": "PuIHzZ1Xl_lH"
      }
    },
    {
      "cell_type": "code",
      "source": [
        "np.random.seed(2023)"
      ],
      "metadata": {
        "id": "PBPdVlrFmBsD"
      },
      "execution_count": 73,
      "outputs": []
    },
    {
      "cell_type": "code",
      "source": [
        "np.random.rand(5)"
      ],
      "metadata": {
        "colab": {
          "base_uri": "https://localhost:8080/"
        },
        "id": "leyy8CCUmIEV",
        "outputId": "c0f7a0ec-76b1-42e8-ac6c-3b0d019eeaec"
      },
      "execution_count": 93,
      "outputs": [
        {
          "output_type": "execute_result",
          "data": {
            "text/plain": [
              "array([0.62349644, 0.78699145, 0.7861026 , 0.7237945 , 0.12976952])"
            ]
          },
          "metadata": {},
          "execution_count": 93
        }
      ]
    },
    {
      "cell_type": "code",
      "source": [
        "# np.random.rand((2, 5)) # shape 직접 지정 안됨"
      ],
      "metadata": {
        "colab": {
          "base_uri": "https://localhost:8080/",
          "height": 284
        },
        "id": "fPOy9hSHn6bE",
        "outputId": "fcad1a4a-ebba-4b9c-9fb3-a67c6e012004"
      },
      "execution_count": 94,
      "outputs": [
        {
          "output_type": "error",
          "ename": "TypeError",
          "evalue": "ignored",
          "traceback": [
            "\u001b[0;31m---------------------------------------------------------------------------\u001b[0m",
            "\u001b[0;31mTypeError\u001b[0m                                 Traceback (most recent call last)",
            "\u001b[0;32m<ipython-input-94-c3009b9b425e>\u001b[0m in \u001b[0;36m<cell line: 1>\u001b[0;34m()\u001b[0m\n\u001b[0;32m----> 1\u001b[0;31m \u001b[0mnp\u001b[0m\u001b[0;34m.\u001b[0m\u001b[0mrandom\u001b[0m\u001b[0;34m.\u001b[0m\u001b[0mrand\u001b[0m\u001b[0;34m(\u001b[0m\u001b[0;34m(\u001b[0m\u001b[0;36m2\u001b[0m\u001b[0;34m,\u001b[0m \u001b[0;36m5\u001b[0m\u001b[0;34m)\u001b[0m\u001b[0;34m)\u001b[0m \u001b[0;31m# shape 직접 지정 안됨\u001b[0m\u001b[0;34m\u001b[0m\u001b[0;34m\u001b[0m\u001b[0m\n\u001b[0m",
            "\u001b[0;32mmtrand.pyx\u001b[0m in \u001b[0;36mnumpy.random.mtrand.RandomState.rand\u001b[0;34m()\u001b[0m\n",
            "\u001b[0;32mmtrand.pyx\u001b[0m in \u001b[0;36mnumpy.random.mtrand.RandomState.random_sample\u001b[0;34m()\u001b[0m\n",
            "\u001b[0;32m_common.pyx\u001b[0m in \u001b[0;36mnumpy.random._common.double_fill\u001b[0;34m()\u001b[0m\n",
            "\u001b[0;31mTypeError\u001b[0m: 'tuple' object cannot be interpreted as an integer"
          ]
        }
      ]
    },
    {
      "cell_type": "code",
      "source": [
        "x = np.arange(10)\n",
        "x"
      ],
      "metadata": {
        "colab": {
          "base_uri": "https://localhost:8080/"
        },
        "id": "0doGVaORmKcy",
        "outputId": "3afd509a-8b83-4b27-b101-3d4818bb9abf"
      },
      "execution_count": 75,
      "outputs": [
        {
          "output_type": "execute_result",
          "data": {
            "text/plain": [
              "array([0, 1, 2, 3, 4, 5, 6, 7, 8, 9])"
            ]
          },
          "metadata": {},
          "execution_count": 75
        }
      ]
    },
    {
      "cell_type": "code",
      "source": [
        "np.random.shuffle(x)\n",
        "x"
      ],
      "metadata": {
        "colab": {
          "base_uri": "https://localhost:8080/"
        },
        "id": "l1mCh_N6mPLD",
        "outputId": "15a65ac3-02cf-488b-c2e7-506d54ff44ad"
      },
      "execution_count": 77,
      "outputs": [
        {
          "output_type": "execute_result",
          "data": {
            "text/plain": [
              "array([8, 1, 9, 2, 3, 0, 5, 6, 7, 4])"
            ]
          },
          "metadata": {},
          "execution_count": 77
        }
      ]
    },
    {
      "cell_type": "code",
      "source": [
        "print(np.random.choice(5, 5, replace = False))  # 비복원추출\n",
        "print(np.random.choice(5, 3, replace = False))"
      ],
      "metadata": {
        "colab": {
          "base_uri": "https://localhost:8080/"
        },
        "id": "zhha4OrUmScG",
        "outputId": "bbf8cf31-40d6-46d1-bc76-585240e81e84"
      },
      "execution_count": 82,
      "outputs": [
        {
          "output_type": "stream",
          "name": "stdout",
          "text": [
            "[0 1 4 3 2]\n",
            "[2 1 0]\n"
          ]
        }
      ]
    },
    {
      "cell_type": "code",
      "source": [
        "print(np.random.choice(5, 3, replace = True))   # 복원추출\n",
        "print(np.random.choice(5, 10))"
      ],
      "metadata": {
        "colab": {
          "base_uri": "https://localhost:8080/"
        },
        "id": "AKGOPRtTmfuf",
        "outputId": "2f042ac2-9cc0-4c74-84bc-fc0ad3a827c7"
      },
      "execution_count": 83,
      "outputs": [
        {
          "output_type": "stream",
          "name": "stdout",
          "text": [
            "[3 1 2]\n",
            "[3 1 3 4 3 1 4 0 2 2]\n"
          ]
        }
      ]
    },
    {
      "cell_type": "code",
      "source": [
        "np.random.rand(10)"
      ],
      "metadata": {
        "colab": {
          "base_uri": "https://localhost:8080/"
        },
        "id": "8vSHmGDNmqnv",
        "outputId": "04af3e81-02a4-4e3a-99ae-15161a5f56fb"
      },
      "execution_count": 84,
      "outputs": [
        {
          "output_type": "execute_result",
          "data": {
            "text/plain": [
              "array([0.95292932, 0.55450583, 0.53138268, 0.26830694, 0.20333695,\n",
              "       0.49730989, 0.13649596, 0.05847877, 0.40140807, 0.43704097])"
            ]
          },
          "metadata": {},
          "execution_count": 84
        }
      ]
    },
    {
      "cell_type": "code",
      "source": [
        "np.random.randn(10), np.random.randn(10).shape    # rand 와 randn -> shape (배열의 모양) 사용 가능"
      ],
      "metadata": {
        "colab": {
          "base_uri": "https://localhost:8080/"
        },
        "id": "uG5LCAFRmySG",
        "outputId": "dbc09ac8-9b60-4ea6-f7d6-dba07d9ff648"
      },
      "execution_count": 86,
      "outputs": [
        {
          "output_type": "execute_result",
          "data": {
            "text/plain": [
              "(array([-0.20194735,  2.15061366, -0.55962836,  1.6194802 , -0.54498249,\n",
              "        -0.46354364, -2.10846967,  1.92129592,  0.83141425, -1.13348183]),\n",
              " (10,))"
            ]
          },
          "metadata": {},
          "execution_count": 86
        }
      ]
    },
    {
      "cell_type": "code",
      "source": [
        "# 기댓값 3, 표준편차 0.5\n",
        "np.random.randn(10) * 0.5 + 3"
      ],
      "metadata": {
        "colab": {
          "base_uri": "https://localhost:8080/"
        },
        "id": "CNWSIdSgm0tT",
        "outputId": "fd515dae-81b9-4e03-95b1-80cdb7e3ab99"
      },
      "execution_count": 87,
      "outputs": [
        {
          "output_type": "execute_result",
          "data": {
            "text/plain": [
              "array([2.9173504 , 2.95600814, 2.7900422 , 4.13322514, 2.81293583,\n",
              "       3.04324237, 3.27930034, 3.27051813, 2.95252578, 3.1159565 ])"
            ]
          },
          "metadata": {},
          "execution_count": 87
        }
      ]
    },
    {
      "cell_type": "code",
      "source": [
        "np.random.randint(1,10,100)"
      ],
      "metadata": {
        "colab": {
          "base_uri": "https://localhost:8080/"
        },
        "id": "NtMS43hHnKxB",
        "outputId": "dfccf6a1-e5f5-4189-9aaa-4eefaa0aa25f"
      },
      "execution_count": 88,
      "outputs": [
        {
          "output_type": "execute_result",
          "data": {
            "text/plain": [
              "array([2, 4, 8, 8, 3, 3, 9, 7, 8, 7, 5, 6, 9, 4, 6, 8, 1, 1, 7, 6, 1, 9,\n",
              "       9, 1, 9, 8, 7, 2, 9, 9, 5, 3, 9, 4, 9, 2, 3, 9, 1, 4, 6, 3, 4, 8,\n",
              "       2, 9, 8, 8, 4, 9, 9, 3, 1, 5, 2, 7, 3, 9, 7, 5, 8, 3, 8, 6, 9, 2,\n",
              "       2, 7, 3, 9, 7, 8, 6, 2, 6, 6, 8, 2, 6, 7, 6, 5, 9, 4, 6, 8, 2, 9,\n",
              "       9, 4, 5, 1, 2, 5, 7, 6, 8, 9, 2, 8])"
            ]
          },
          "metadata": {},
          "execution_count": 88
        }
      ]
    },
    {
      "cell_type": "code",
      "source": [
        "r = np.random.randint(1,10,100)\n",
        "r"
      ],
      "metadata": {
        "colab": {
          "base_uri": "https://localhost:8080/"
        },
        "id": "QUFg2xk5nSIq",
        "outputId": "248dd7cd-1b9f-4c8b-db44-8b5f57892a5b"
      },
      "execution_count": 89,
      "outputs": [
        {
          "output_type": "execute_result",
          "data": {
            "text/plain": [
              "array([4, 3, 3, 9, 3, 5, 3, 3, 3, 9, 1, 4, 8, 1, 7, 8, 7, 8, 9, 2, 4, 6,\n",
              "       6, 3, 3, 7, 5, 7, 8, 7, 5, 5, 2, 1, 3, 1, 2, 4, 4, 3, 4, 1, 8, 4,\n",
              "       1, 5, 7, 3, 6, 6, 9, 4, 5, 9, 5, 5, 8, 3, 4, 4, 4, 3, 7, 6, 6, 2,\n",
              "       1, 5, 6, 6, 2, 7, 7, 8, 4, 4, 7, 8, 4, 5, 3, 2, 9, 5, 1, 6, 8, 3,\n",
              "       7, 7, 7, 6, 2, 7, 5, 2, 1, 3, 5, 9])"
            ]
          },
          "metadata": {},
          "execution_count": 89
        }
      ]
    },
    {
      "cell_type": "code",
      "source": [
        "np.unique(r)"
      ],
      "metadata": {
        "colab": {
          "base_uri": "https://localhost:8080/"
        },
        "id": "7JvbzEk6nUog",
        "outputId": "b38b446b-6735-4720-8be6-6dc1d9fa264c"
      },
      "execution_count": 90,
      "outputs": [
        {
          "output_type": "execute_result",
          "data": {
            "text/plain": [
              "array([1, 2, 3, 4, 5, 6, 7, 8, 9])"
            ]
          },
          "metadata": {},
          "execution_count": 90
        }
      ]
    },
    {
      "cell_type": "code",
      "source": [
        "np.unique(r, return_counts = True)\n",
        "# 첫번째 array는 고유값들\n",
        "# 두번째 array는 고유값마다 몇개씩 있는지"
      ],
      "metadata": {
        "colab": {
          "base_uri": "https://localhost:8080/"
        },
        "id": "IzQ_pZWWnWqi",
        "outputId": "951b8eed-cc84-49b8-ce21-cdfae52ea2b8"
      },
      "execution_count": 92,
      "outputs": [
        {
          "output_type": "execute_result",
          "data": {
            "text/plain": [
              "(array([1, 2, 3, 4, 5, 6, 7, 8, 9]),\n",
              " array([ 9,  8, 16, 14, 13, 10, 14,  9,  7]))"
            ]
          },
          "metadata": {},
          "execution_count": 92
        }
      ]
    },
    {
      "cell_type": "code",
      "source": [
        "index, value = np.unique(r, return_counts=True)\n",
        "index, value"
      ],
      "metadata": {
        "colab": {
          "base_uri": "https://localhost:8080/"
        },
        "id": "hGbnBvv_nc6h",
        "outputId": "19942e99-bac1-4d0d-b06e-96e1a8021293"
      },
      "execution_count": 95,
      "outputs": [
        {
          "output_type": "execute_result",
          "data": {
            "text/plain": [
              "(array([1, 2, 3, 4, 5, 6, 7, 8, 9]),\n",
              " array([ 9,  8, 16, 14, 13, 10, 14,  9,  7]))"
            ]
          },
          "metadata": {},
          "execution_count": 95
        }
      ]
    },
    {
      "cell_type": "code",
      "source": [
        "zip(index, value)"
      ],
      "metadata": {
        "colab": {
          "base_uri": "https://localhost:8080/"
        },
        "id": "arV_eFIyoCpS",
        "outputId": "c957f525-9892-4ece-d6e1-00b094b598f6"
      },
      "execution_count": 96,
      "outputs": [
        {
          "output_type": "execute_result",
          "data": {
            "text/plain": [
              "<zip at 0x7fe2cb4ea480>"
            ]
          },
          "metadata": {},
          "execution_count": 96
        }
      ]
    },
    {
      "cell_type": "code",
      "source": [
        "dict(zip(index, value))"
      ],
      "metadata": {
        "colab": {
          "base_uri": "https://localhost:8080/"
        },
        "id": "YAMgrZDOoD5M",
        "outputId": "1a2559bb-1fc6-4857-de2b-b786346aad76"
      },
      "execution_count": 97,
      "outputs": [
        {
          "output_type": "execute_result",
          "data": {
            "text/plain": [
              "{1: 9, 2: 8, 3: 16, 4: 14, 5: 13, 6: 10, 7: 14, 8: 9, 9: 7}"
            ]
          },
          "metadata": {},
          "execution_count": 97
        }
      ]
    }
  ]
}